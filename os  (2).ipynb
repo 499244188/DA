{
 "cells": [
  {
   "cell_type": "code",
   "execution_count": 1,
   "metadata": {
    "collapsed": true
   },
   "outputs": [],
   "source": [
    "import os"
   ]
  },
  {
   "cell_type": "code",
   "execution_count": 7,
   "metadata": {
    "collapsed": false
   },
   "outputs": [
    {
     "data": {
      "text/plain": [
       "('\\\\', 'nt', 'C:\\\\Users\\\\ZYC\\\\Untitled Folder')"
      ]
     },
     "execution_count": 7,
     "metadata": {},
     "output_type": "execute_result"
    }
   ],
   "source": [
    "os.sep,os.name,os.getcwd()"
   ]
  },
  {
   "cell_type": "code",
   "execution_count": 14,
   "metadata": {
    "collapsed": false
   },
   "outputs": [
    {
     "data": {
      "text/plain": [
       "['Administrator',\n",
       " 'All Users',\n",
       " 'Default',\n",
       " 'Default User',\n",
       " 'desktop.ini',\n",
       " 'Public',\n",
       " 'Z',\n",
       " 'ZYC']"
      ]
     },
     "execution_count": 14,
     "metadata": {},
     "output_type": "execute_result"
    }
   ],
   "source": [
    "os.listdir('C:\\\\Users\\\\')"
   ]
  },
  {
   "cell_type": "code",
   "execution_count": 19,
   "metadata": {
    "collapsed": false
   },
   "outputs": [],
   "source": [
    "os.remove('C:\\\\Users\\\\Z\\\\Desktop\\\\新建文件夹 (2)\\\\新建位图图像.bmp')#删除指定文件"
   ]
  },
  {
   "cell_type": "code",
   "execution_count": 25,
   "metadata": {
    "collapsed": false
   },
   "outputs": [
    {
     "ename": "TypeError",
     "evalue": "Required argument 'command' (pos 1) not found",
     "output_type": "error",
     "traceback": [
      "\u001b[1;31m---------------------------------------------------------------------------\u001b[0m",
      "\u001b[1;31mTypeError\u001b[0m                                 Traceback (most recent call last)",
      "\u001b[1;32m<ipython-input-25-8402feaf8a40>\u001b[0m in \u001b[0;36m<module>\u001b[1;34m()\u001b[0m\n\u001b[1;32m----> 1\u001b[1;33m \u001b[0mos\u001b[0m\u001b[1;33m.\u001b[0m\u001b[0msystem\u001b[0m\u001b[1;33m(\u001b[0m\u001b[1;33m)\u001b[0m\u001b[1;33m\u001b[0m\u001b[0m\n\u001b[0m",
      "\u001b[1;31mTypeError\u001b[0m: Required argument 'command' (pos 1) not found"
     ]
    }
   ],
   "source": [
    "#s.system()函数用来运行shell命令。"
   ]
  },
  {
   "cell_type": "code",
   "execution_count": 27,
   "metadata": {
    "collapsed": false
   },
   "outputs": [
    {
     "data": {
      "text/plain": [
       "'\\r\\n'"
      ]
     },
     "execution_count": 27,
     "metadata": {},
     "output_type": "execute_result"
    }
   ],
   "source": [
    "os.linesep #当前平台的终止符"
   ]
  },
  {
   "cell_type": "code",
   "execution_count": 43,
   "metadata": {
    "collapsed": false
   },
   "outputs": [
    {
     "data": {
      "text/plain": [
       "['C:\\\\Users\\\\Z\\\\Desktop\\\\新建文件夹 (2)', '新建位图图像.bmp']"
      ]
     },
     "execution_count": 43,
     "metadata": {},
     "output_type": "execute_result"
    }
   ],
   "source": [
    "list(os.path.split('C:\\\\Users\\\\Z\\\\Desktop\\\\新建文件夹 (2)\\\\新建位图图像.bmp'))"
   ]
  },
  {
   "cell_type": "code",
   "execution_count": 44,
   "metadata": {
    "collapsed": false
   },
   "outputs": [
    {
     "data": {
      "text/plain": [
       "False"
      ]
     },
     "execution_count": 44,
     "metadata": {},
     "output_type": "execute_result"
    }
   ],
   "source": [
    "os.path.isdir('C:\\\\Users\\\\Z\\\\Desktop\\\\新建文件夹 (2)\\\\新建位图图像.bmp')"
   ]
  },
  {
   "cell_type": "code",
   "execution_count": 47,
   "metadata": {
    "collapsed": false
   },
   "outputs": [
    {
     "data": {
      "text/plain": [
       "True"
      ]
     },
     "execution_count": 47,
     "metadata": {},
     "output_type": "execute_result"
    }
   ],
   "source": [
    "os.path.isfile('C:\\\\Users\\\\Z\\\\Desktop\\\\新建文件夹 (2)\\\\使用说明.txt')"
   ]
  },
  {
   "cell_type": "code",
   "execution_count": 52,
   "metadata": {
    "collapsed": false
   },
   "outputs": [
    {
     "ename": "AttributeError",
     "evalue": "module 'ntpath' has no attribute 'existe'",
     "output_type": "error",
     "traceback": [
      "\u001b[1;31m---------------------------------------------------------------------------\u001b[0m",
      "\u001b[1;31mAttributeError\u001b[0m                            Traceback (most recent call last)",
      "\u001b[1;32m<ipython-input-52-18dd6adcd96c>\u001b[0m in \u001b[0;36m<module>\u001b[1;34m()\u001b[0m\n\u001b[1;32m----> 1\u001b[1;33m \u001b[0mos\u001b[0m\u001b[1;33m.\u001b[0m\u001b[0mpath\u001b[0m\u001b[1;33m.\u001b[0m\u001b[0mexiste\u001b[0m\u001b[1;33m(\u001b[0m\u001b[1;33m)\u001b[0m\u001b[1;33m\u001b[0m\u001b[0m\n\u001b[0m",
      "\u001b[1;31mAttributeError\u001b[0m: module 'ntpath' has no attribute 'existe'"
     ]
    }
   ],
   "source": [
    "os.path.existe()"
   ]
  },
  {
   "cell_type": "code",
   "execution_count": 54,
   "metadata": {
    "collapsed": false
   },
   "outputs": [
    {
     "data": {
      "text/plain": [
       "'.'"
      ]
     },
     "execution_count": 54,
     "metadata": {},
     "output_type": "execute_result"
    }
   ],
   "source": [
    "os.curdir"
   ]
  },
  {
   "cell_type": "code",
   "execution_count": 58,
   "metadata": {
    "collapsed": false
   },
   "outputs": [
    {
     "data": {
      "text/plain": [
       "('\\\\新建文件夹 (2)\\\\使用说明', '.txt')"
      ]
     },
     "execution_count": 58,
     "metadata": {},
     "output_type": "execute_result"
    }
   ],
   "source": [
    "os.path.splitext('\\新建文件夹 (2)\\\\使用说明.txt')"
   ]
  },
  {
   "cell_type": "code",
   "execution_count": 61,
   "metadata": {
    "collapsed": true
   },
   "outputs": [
    {
     "data": {
      "text/plain": [
       "['chcp 936 &gt;nul\\n@echo off\\nmode con lines=30 cols=60\\n%1 mshta vbscript:CreateObject(\"Shell.Application\").ShellExecute(\"cmd.exe\",\"/c %~s0 ::\",\"\",\"runas\",1)(window.close)&&exit\\ncd /d \"%~dp0\"\\n:main\\ncls\\ncolor 2f\\necho √√    √√  √√√      √√√√  √√√√√    √√√√\\necho   √    √  √      √  √      √  √  √  √  √      √\\necho   √    √  √      √  √              √      √\\necho   √√√√  √      √    √√          √        √√\\necho   √    √  √      √        √        √            √\\necho   √    √  √      √          √      √              √\\necho   √    √  √      √  √      √      √      √      √\\necho √√    √√  √√√    √√√√      √√√    √√√√\\necho.----------------------------------------------------------- \\necho.如有360、电脑管家等安全软件提醒，请勾选信任允许和不再提醒！\\necho.\\necho.警告：执行该命令 您的hosts将被自动替换覆盖！\\necho.如您原先的hosts有自己修改过的信息，请自行手动修改！\\necho.\\necho.老D博客 https://laod.cn  备用域名：laod.org laod.top\\necho.\\necho.2017 永久更新地址：\\necho.https://laod.cn/hosts/2017-google-hosts.html\\ncolor 2e\\necho.-----------------------------------------------------------\\necho.请选择使用：\\necho.\\necho. 1.使用穿墙hosts（即在下面输入1）\\necho.\\necho. 2.恢复初始hosts（即在下面输入2）\\necho.-----------------------------------------------------------\\n\\nif exist \"%SystemRoot%\\\\System32\\\\choice.exe\" goto Win7Choice\\n\\nset /p choice=请输入数字并按回车键确认:\\n\\necho.\\nif %choice%==1 goto host DNS\\nif %choice%==2 goto CL\\ncls\\n\"set choice=\"\\necho 您输入有误，请重新选择。\\nping 127.0.1 -n \"2\">nul\\ngoto main\\n\\n:Win7Choice\\nchoice /c 12 /n /m \"请输入相应数字：\"\\nif errorlevel 2 goto CL\\nif errorlevel 1 goto host DNS\\ncls\\ngoto main\\n\\n:host DNS\\ncls\\ncolor 2f\\ncopy /y \"hosts\" \"%SystemRoot%\\\\System32\\\\drivers\\\\etc\\\\hosts\"\\nipconfig /flushdns\\necho.-----------------------------------------------------------\\necho.\\necho 老D恭喜您，覆盖本地hosts并刷新本地DNS解析缓存成功!\\necho.\\necho 现在去打开Google、Twitter、Facebook、Gmail、谷歌学术吧！\\necho.\\necho.谷歌这些网站记得使用https进行加密访问！\\necho.\\necho.即：https://www.google.com\\necho.\\necho.或者：https://www.google.com/ncr\\necho.      https://www.google.com.hk/ncr\\necho.\\ngoto end\\n\\n:CL\\ncls\\ncolor 2f\\n@echo 127.0.0.1 localhost > %SystemRoot%\\\\System32\\\\drivers\\\\etc\\\\hosts\\necho 恭喜您，hosts恢复初始成功!\\necho.\\ngoto end\\n\\n:end\\necho 请按任意键退出。\\n@Pause>nul',\n",
       " '本批处理仅适用于windows系统\\n\\n自动替换hosts批处理...\\n\\n---------------------------------------------------------\\n脚本会自动以管理员身份运行，CMD运行后会弹出一个提示，\\n\\n请点击“是/Y”\\n\\n\\n按提示输入\\n\\n\\n请输入：1  然后按回车键即可\\n\\n\\n就可以自动把文件夹下的hosts文件替换到系统\\n\\nC:\\\\Windows\\\\System32\\\\drivers\\\\etc目录下了\\n\\n---------------------------------------------------------\\n\\n请注意：\\n\\n命令或指导均可能覆盖现有hosts，\\n\\n如现有hosts内容重要的话请备份后再使用。\\n\\n---------------------------------------------------------\\n\\nCopyright (c) 老D博客：https://laod.cn']"
      ]
     },
     "execution_count": 61,
     "metadata": {},
     "output_type": "execute_result"
    }
   ],
   "source": [
    "path='C:\\\\Users\\\\Z\\\\Desktop\\\\新建文件夹 (2)\\\\'\n",
    "[open(os.path.join(path,name)).read() for name in os.listdir(path)]\n",
    "\n",
    "#posts=[open(os.path.join(DIR,f)).read() for f in os.listdir(DIR)]"
   ]
  },
  {
   "cell_type": "code",
   "execution_count": null,
   "metadata": {
    "collapsed": true
   },
   "outputs": [],
   "source": []
  }
 ],
 "metadata": {
  "anaconda-cloud": {},
  "kernelspec": {
   "display_name": "Python [Root]",
   "language": "python",
   "name": "Python [Root]"
  },
  "language_info": {
   "codemirror_mode": {
    "name": "ipython",
    "version": 3
   },
   "file_extension": ".py",
   "mimetype": "text/x-python",
   "name": "python",
   "nbconvert_exporter": "python",
   "pygments_lexer": "ipython3",
   "version": "3.5.1"
  }
 },
 "nbformat": 4,
 "nbformat_minor": 0
}
