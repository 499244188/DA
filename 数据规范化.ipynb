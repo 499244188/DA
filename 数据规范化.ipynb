{
 "cells": [
  {
   "cell_type": "code",
   "execution_count": 32,
   "metadata": {
    "collapsed": true
   },
   "outputs": [],
   "source": [
    "import pandas as pd\n",
    "import numpy as np"
   ]
  },
  {
   "cell_type": "code",
   "execution_count": 10,
   "metadata": {
    "collapsed": true
   },
   "outputs": [],
   "source": [
    "data=pd.read_excel('/home/x/桌面/chapter4/chapter4/demo/data/normalization_data.xls',header=None)"
   ]
  },
  {
   "cell_type": "code",
   "execution_count": 11,
   "metadata": {
    "collapsed": false
   },
   "outputs": [
    {
     "data": {
      "text/html": [
       "<div>\n",
       "<table border=\"1\" class=\"dataframe\">\n",
       "  <thead>\n",
       "    <tr style=\"text-align: right;\">\n",
       "      <th></th>\n",
       "      <th>0</th>\n",
       "      <th>1</th>\n",
       "      <th>2</th>\n",
       "      <th>3</th>\n",
       "    </tr>\n",
       "  </thead>\n",
       "  <tbody>\n",
       "    <tr>\n",
       "      <th>0</th>\n",
       "      <td>78</td>\n",
       "      <td>521</td>\n",
       "      <td>602</td>\n",
       "      <td>2863</td>\n",
       "    </tr>\n",
       "    <tr>\n",
       "      <th>1</th>\n",
       "      <td>144</td>\n",
       "      <td>-600</td>\n",
       "      <td>-521</td>\n",
       "      <td>2245</td>\n",
       "    </tr>\n",
       "    <tr>\n",
       "      <th>2</th>\n",
       "      <td>95</td>\n",
       "      <td>-457</td>\n",
       "      <td>468</td>\n",
       "      <td>-1283</td>\n",
       "    </tr>\n",
       "    <tr>\n",
       "      <th>3</th>\n",
       "      <td>69</td>\n",
       "      <td>596</td>\n",
       "      <td>695</td>\n",
       "      <td>1054</td>\n",
       "    </tr>\n",
       "    <tr>\n",
       "      <th>4</th>\n",
       "      <td>190</td>\n",
       "      <td>527</td>\n",
       "      <td>691</td>\n",
       "      <td>2051</td>\n",
       "    </tr>\n",
       "    <tr>\n",
       "      <th>5</th>\n",
       "      <td>101</td>\n",
       "      <td>403</td>\n",
       "      <td>470</td>\n",
       "      <td>2487</td>\n",
       "    </tr>\n",
       "    <tr>\n",
       "      <th>6</th>\n",
       "      <td>146</td>\n",
       "      <td>413</td>\n",
       "      <td>435</td>\n",
       "      <td>2571</td>\n",
       "    </tr>\n",
       "  </tbody>\n",
       "</table>\n",
       "</div>"
      ],
      "text/plain": [
       "     0    1    2     3\n",
       "0   78  521  602  2863\n",
       "1  144 -600 -521  2245\n",
       "2   95 -457  468 -1283\n",
       "3   69  596  695  1054\n",
       "4  190  527  691  2051\n",
       "5  101  403  470  2487\n",
       "6  146  413  435  2571"
      ]
     },
     "execution_count": 11,
     "metadata": {},
     "output_type": "execute_result"
    }
   ],
   "source": [
    "data"
   ]
  },
  {
   "cell_type": "code",
   "execution_count": 12,
   "metadata": {
    "collapsed": false
   },
   "outputs": [
    {
     "data": {
      "text/html": [
       "<div>\n",
       "<table border=\"1\" class=\"dataframe\">\n",
       "  <thead>\n",
       "    <tr style=\"text-align: right;\">\n",
       "      <th></th>\n",
       "      <th>0</th>\n",
       "      <th>1</th>\n",
       "      <th>2</th>\n",
       "      <th>3</th>\n",
       "    </tr>\n",
       "  </thead>\n",
       "  <tbody>\n",
       "    <tr>\n",
       "      <th>0</th>\n",
       "      <td>0.074380</td>\n",
       "      <td>0.937291</td>\n",
       "      <td>0.923520</td>\n",
       "      <td>1.000000</td>\n",
       "    </tr>\n",
       "    <tr>\n",
       "      <th>1</th>\n",
       "      <td>0.619835</td>\n",
       "      <td>0.000000</td>\n",
       "      <td>0.000000</td>\n",
       "      <td>0.850941</td>\n",
       "    </tr>\n",
       "    <tr>\n",
       "      <th>2</th>\n",
       "      <td>0.214876</td>\n",
       "      <td>0.119565</td>\n",
       "      <td>0.813322</td>\n",
       "      <td>0.000000</td>\n",
       "    </tr>\n",
       "    <tr>\n",
       "      <th>3</th>\n",
       "      <td>0.000000</td>\n",
       "      <td>1.000000</td>\n",
       "      <td>1.000000</td>\n",
       "      <td>0.563676</td>\n",
       "    </tr>\n",
       "    <tr>\n",
       "      <th>4</th>\n",
       "      <td>1.000000</td>\n",
       "      <td>0.942308</td>\n",
       "      <td>0.996711</td>\n",
       "      <td>0.804149</td>\n",
       "    </tr>\n",
       "    <tr>\n",
       "      <th>5</th>\n",
       "      <td>0.264463</td>\n",
       "      <td>0.838629</td>\n",
       "      <td>0.814967</td>\n",
       "      <td>0.909310</td>\n",
       "    </tr>\n",
       "    <tr>\n",
       "      <th>6</th>\n",
       "      <td>0.636364</td>\n",
       "      <td>0.846990</td>\n",
       "      <td>0.786184</td>\n",
       "      <td>0.929571</td>\n",
       "    </tr>\n",
       "  </tbody>\n",
       "</table>\n",
       "</div>"
      ],
      "text/plain": [
       "          0         1         2         3\n",
       "0  0.074380  0.937291  0.923520  1.000000\n",
       "1  0.619835  0.000000  0.000000  0.850941\n",
       "2  0.214876  0.119565  0.813322  0.000000\n",
       "3  0.000000  1.000000  1.000000  0.563676\n",
       "4  1.000000  0.942308  0.996711  0.804149\n",
       "5  0.264463  0.838629  0.814967  0.909310\n",
       "6  0.636364  0.846990  0.786184  0.929571"
      ]
     },
     "execution_count": 12,
     "metadata": {},
     "output_type": "execute_result"
    }
   ],
   "source": [
    "(data-data.min())/(data.max()-data.min())#数据最小最大规范化"
   ]
  },
  {
   "cell_type": "code",
   "execution_count": 30,
   "metadata": {
    "collapsed": false
   },
   "outputs": [
    {
     "data": {
      "text/html": [
       "<div>\n",
       "<table border=\"1\" class=\"dataframe\">\n",
       "  <thead>\n",
       "    <tr style=\"text-align: right;\">\n",
       "      <th></th>\n",
       "      <th>0</th>\n",
       "      <th>1</th>\n",
       "      <th>2</th>\n",
       "      <th>3</th>\n",
       "    </tr>\n",
       "  </thead>\n",
       "  <tbody>\n",
       "    <tr>\n",
       "      <th>0</th>\n",
       "      <td>-0.905383</td>\n",
       "      <td>0.635863</td>\n",
       "      <td>0.464531</td>\n",
       "      <td>0.798149</td>\n",
       "    </tr>\n",
       "    <tr>\n",
       "      <th>1</th>\n",
       "      <td>0.604678</td>\n",
       "      <td>-1.587675</td>\n",
       "      <td>-2.193167</td>\n",
       "      <td>0.369390</td>\n",
       "    </tr>\n",
       "    <tr>\n",
       "      <th>2</th>\n",
       "      <td>-0.516428</td>\n",
       "      <td>-1.304030</td>\n",
       "      <td>0.147406</td>\n",
       "      <td>-2.078279</td>\n",
       "    </tr>\n",
       "    <tr>\n",
       "      <th>3</th>\n",
       "      <td>-1.111301</td>\n",
       "      <td>0.784628</td>\n",
       "      <td>0.684625</td>\n",
       "      <td>-0.456906</td>\n",
       "    </tr>\n",
       "    <tr>\n",
       "      <th>4</th>\n",
       "      <td>1.657146</td>\n",
       "      <td>0.647765</td>\n",
       "      <td>0.675159</td>\n",
       "      <td>0.234796</td>\n",
       "    </tr>\n",
       "    <tr>\n",
       "      <th>5</th>\n",
       "      <td>-0.379150</td>\n",
       "      <td>0.401807</td>\n",
       "      <td>0.152139</td>\n",
       "      <td>0.537286</td>\n",
       "    </tr>\n",
       "    <tr>\n",
       "      <th>6</th>\n",
       "      <td>0.650438</td>\n",
       "      <td>0.421642</td>\n",
       "      <td>0.069308</td>\n",
       "      <td>0.595564</td>\n",
       "    </tr>\n",
       "  </tbody>\n",
       "</table>\n",
       "</div>"
      ],
      "text/plain": [
       "          0         1         2         3\n",
       "0 -0.905383  0.635863  0.464531  0.798149\n",
       "1  0.604678 -1.587675 -2.193167  0.369390\n",
       "2 -0.516428 -1.304030  0.147406 -2.078279\n",
       "3 -1.111301  0.784628  0.684625 -0.456906\n",
       "4  1.657146  0.647765  0.675159  0.234796\n",
       "5 -0.379150  0.401807  0.152139  0.537286\n",
       "6  0.650438  0.421642  0.069308  0.595564"
      ]
     },
     "execution_count": 30,
     "metadata": {},
     "output_type": "execute_result"
    }
   ],
   "source": [
    "(data-data.mean())/data.std()#零-均值规范化"
   ]
  },
  {
   "cell_type": "code",
   "execution_count": 33,
   "metadata": {
    "collapsed": false
   },
   "outputs": [
    {
     "data": {
      "text/html": [
       "<div>\n",
       "<table border=\"1\" class=\"dataframe\">\n",
       "  <thead>\n",
       "    <tr style=\"text-align: right;\">\n",
       "      <th></th>\n",
       "      <th>0</th>\n",
       "      <th>1</th>\n",
       "      <th>2</th>\n",
       "      <th>3</th>\n",
       "    </tr>\n",
       "  </thead>\n",
       "  <tbody>\n",
       "    <tr>\n",
       "      <th>0</th>\n",
       "      <td>0.078</td>\n",
       "      <td>0.521</td>\n",
       "      <td>0.602</td>\n",
       "      <td>0.2863</td>\n",
       "    </tr>\n",
       "    <tr>\n",
       "      <th>1</th>\n",
       "      <td>0.144</td>\n",
       "      <td>-0.600</td>\n",
       "      <td>-0.521</td>\n",
       "      <td>0.2245</td>\n",
       "    </tr>\n",
       "    <tr>\n",
       "      <th>2</th>\n",
       "      <td>0.095</td>\n",
       "      <td>-0.457</td>\n",
       "      <td>0.468</td>\n",
       "      <td>-0.1283</td>\n",
       "    </tr>\n",
       "    <tr>\n",
       "      <th>3</th>\n",
       "      <td>0.069</td>\n",
       "      <td>0.596</td>\n",
       "      <td>0.695</td>\n",
       "      <td>0.1054</td>\n",
       "    </tr>\n",
       "    <tr>\n",
       "      <th>4</th>\n",
       "      <td>0.190</td>\n",
       "      <td>0.527</td>\n",
       "      <td>0.691</td>\n",
       "      <td>0.2051</td>\n",
       "    </tr>\n",
       "    <tr>\n",
       "      <th>5</th>\n",
       "      <td>0.101</td>\n",
       "      <td>0.403</td>\n",
       "      <td>0.470</td>\n",
       "      <td>0.2487</td>\n",
       "    </tr>\n",
       "    <tr>\n",
       "      <th>6</th>\n",
       "      <td>0.146</td>\n",
       "      <td>0.413</td>\n",
       "      <td>0.435</td>\n",
       "      <td>0.2571</td>\n",
       "    </tr>\n",
       "  </tbody>\n",
       "</table>\n",
       "</div>"
      ],
      "text/plain": [
       "       0      1      2       3\n",
       "0  0.078  0.521  0.602  0.2863\n",
       "1  0.144 -0.600 -0.521  0.2245\n",
       "2  0.095 -0.457  0.468 -0.1283\n",
       "3  0.069  0.596  0.695  0.1054\n",
       "4  0.190  0.527  0.691  0.2051\n",
       "5  0.101  0.403  0.470  0.2487\n",
       "6  0.146  0.413  0.435  0.2571"
      ]
     },
     "execution_count": 33,
     "metadata": {},
     "output_type": "execute_result"
    }
   ],
   "source": [
    "data/10**np.ceil(np.log10(data.abs().max()))#小数定标规范化"
   ]
  },
  {
   "cell_type": "code",
   "execution_count": 199,
   "metadata": {
    "collapsed": false
   },
   "outputs": [],
   "source": [
    "data1=pd.read_excel('/home/x/桌面/chapter4/chapter4/demo/data/discretization_data.xls')"
   ]
  },
  {
   "cell_type": "code",
   "execution_count": 200,
   "metadata": {
    "collapsed": false
   },
   "outputs": [],
   "source": [
    "data1=data1['肝气郁结证型系数'].copy()"
   ]
  },
  {
   "cell_type": "code",
   "execution_count": 201,
   "metadata": {
    "collapsed": false
   },
   "outputs": [],
   "source": [
    "k=4\n",
    "d1=pd.cut(data1,k,labels=range(k))#等宽离散化，各个类依次命名为0123"
   ]
  },
  {
   "cell_type": "code",
   "execution_count": 202,
   "metadata": {
    "collapsed": false
   },
   "outputs": [
    {
     "data": {
      "text/plain": [
       "[0.0, 0.25, 0.5, 0.75, 1.0]"
      ]
     },
     "execution_count": 202,
     "metadata": {},
     "output_type": "execute_result"
    }
   ],
   "source": [
    "w=[1.0*i/k for i in range(k+1)]\n",
    "w"
   ]
  },
  {
   "cell_type": "code",
   "execution_count": 203,
   "metadata": {
    "collapsed": false
   },
   "outputs": [],
   "source": [
    "w=data1.describe(percentiles=w)[4:4+k+1]"
   ]
  },
  {
   "cell_type": "code",
   "execution_count": 204,
   "metadata": {
    "collapsed": false
   },
   "outputs": [
    {
     "data": {
      "text/plain": [
       "0%      0.02600\n",
       "25%     0.17625\n",
       "50%     0.23100\n",
       "75%     0.28175\n",
       "100%    0.50400\n",
       "Name: 肝气郁结证型系数, dtype: float64"
      ]
     },
     "execution_count": 204,
     "metadata": {},
     "output_type": "execute_result"
    }
   ],
   "source": [
    "w[0]=w[0]*(1-1e-10)\n",
    "w"
   ]
  },
  {
   "cell_type": "code",
   "execution_count": 205,
   "metadata": {
    "collapsed": false
   },
   "outputs": [],
   "source": [
    "d2=pd.cut(data1,w,labels=range(k))"
   ]
  },
  {
   "cell_type": "code",
   "execution_count": 206,
   "metadata": {
    "collapsed": false
   },
   "outputs": [],
   "source": [
    "from sklearn.cluster import KMeans#引入KMeans"
   ]
  },
  {
   "cell_type": "code",
   "execution_count": 207,
   "metadata": {
    "collapsed": false
   },
   "outputs": [
    {
     "data": {
      "text/plain": [
       "KMeans(copy_x=True, init='k-means++', max_iter=300, n_clusters=4, n_init=10,\n",
       "    n_jobs=2, precompute_distances='auto', random_state=None, tol=0.0001,\n",
       "    verbose=0)"
      ]
     },
     "execution_count": 207,
     "metadata": {},
     "output_type": "execute_result"
    }
   ],
   "source": [
    "kmodel=KMeans(n_clusters=k,n_jobs=2)#建立模型，n_jobs是并行数\n",
    "kmodel"
   ]
  },
  {
   "cell_type": "code",
   "execution_count": 209,
   "metadata": {
    "collapsed": false
   },
   "outputs": [
    {
     "data": {
      "text/plain": [
       "KMeans(copy_x=True, init='k-means++', max_iter=300, n_clusters=4, n_init=10,\n",
       "    n_jobs=2, precompute_distances='auto', random_state=None, tol=0.0001,\n",
       "    verbose=0)"
      ]
     },
     "execution_count": 209,
     "metadata": {},
     "output_type": "execute_result"
    }
   ],
   "source": [
    "kmodel.fit(data1.reshape((len(data1),1)));#训练模型\n",
    "kmodel"
   ]
  },
  {
   "cell_type": "code",
   "execution_count": 210,
   "metadata": {
    "collapsed": false
   },
   "outputs": [
    {
     "name": "stderr",
     "output_type": "stream",
     "text": [
      "/root/anaconda3/lib/python3.5/site-packages/ipykernel/__main__.py:1: FutureWarning: sort(columns=....) is deprecated, use sort_values(by=.....)\n",
      "  if __name__ == '__main__':\n"
     ]
    }
   ],
   "source": [
    "c=pd.DataFrame(kmodel.cluster_centers_).sort(0)"
   ]
  },
  {
   "cell_type": "code",
   "execution_count": 213,
   "metadata": {
    "collapsed": false
   },
   "outputs": [
    {
     "name": "stderr",
     "output_type": "stream",
     "text": [
      "/root/anaconda3/lib/python3.5/site-packages/ipykernel/__main__.py:1: FutureWarning: pd.rolling_mean is deprecated for DataFrame and will be removed in a future version, replace with \n",
      "\tDataFrame.rolling(center=False,window=2).mean()\n",
      "  if __name__ == '__main__':\n"
     ]
    }
   ],
   "source": [
    "w=pd.rolling_mean(c,2).iloc[1:]#相邻两项求中点,作为边界"
   ]
  },
  {
   "cell_type": "code",
   "execution_count": 214,
   "metadata": {
    "collapsed": false
   },
   "outputs": [
    {
     "data": {
      "text/plain": [
       "[0, 0.17869758895131088, 0.25772406433683875, 0.35184318136037063, 0.504]"
      ]
     },
     "execution_count": 214,
     "metadata": {},
     "output_type": "execute_result"
    }
   ],
   "source": [
    "w=[0]+list(w[0])+[data1.max()]#把首末边界点加上\n",
    "w"
   ]
  },
  {
   "cell_type": "code",
   "execution_count": 215,
   "metadata": {
    "collapsed": true
   },
   "outputs": [],
   "source": [
    "d3=pd.cut(data1,w,labels=range(k))"
   ]
  },
  {
   "cell_type": "code",
   "execution_count": 185,
   "metadata": {
    "collapsed": false
   },
   "outputs": [],
   "source": [
    "def cluster_plot(d,k):#自定义作图显示聚类结果\n",
    "    import matplotlib.pyplot as plt\n",
    "    plt.rcParams['font.sans-serif']=['SimHei']#显示中文标签，然并暖\n",
    "    plt.rcParams['axes.unicode_minus']=False\n",
    "    \n",
    "    plt.figure(figsize=(8,3))\n",
    "    for j in range(0,k):\n",
    "        plt.plot(data1[d==j],[j for i in d[d==j]],'o')\n",
    "        \n",
    "    plt.ylim(-0.5,k-0.5)\n",
    "    return plt"
   ]
  },
  {
   "cell_type": "code",
   "execution_count": 211,
   "metadata": {
    "collapsed": false
   },
   "outputs": [
    {
     "data": {
      "image/png": "[encoded data removed]",
      "text/plain": [
       "<matplotlib.figure.Figure at 0x7f8179492160>"
      ]
     },
     "metadata": {},
     "output_type": "display_data"
    }
   ],
   "source": [
    "cluster_plot(d1,k).show()"
   ]
  },
  {
   "cell_type": "code",
   "execution_count": 212,
   "metadata": {
    "collapsed": false
   },
   "outputs": [
    {
     "data": {
      "image/png": "[encoded data removed]",
      "text/plain": [
       "<matplotlib.figure.Figure at 0x7f8179546c18>"
      ]
     },
     "metadata": {},
     "output_type": "display_data"
    }
   ],
   "source": [
    "cluster_plot(d2,k).show()"
   ]
  },
  {
   "cell_type": "code",
   "execution_count": 216,
   "metadata": {
    "collapsed": false
   },
   "outputs": [
    {
     "data": {
      "image/png": "[encoded data removed]",
      "text/plain": [
       "<matplotlib.figure.Figure at 0x7f817994ec88>"
      ]
     },
     "metadata": {},
     "output_type": "display_data"
    }
   ],
   "source": [
    "cluster_plot(d3,k).show()"
   ]
  },
  {
   "cell_type": "code",
   "execution_count": 189,
   "metadata": {
    "collapsed": true
   },
   "outputs": [
    {
     "data": {
      "text/plain": [
       "0      0\n",
       "1      1\n",
       "2      0\n",
       "3      1\n",
       "4      0\n",
       "5      1\n",
       "6      0\n",
       "7      1\n",
       "8      1\n",
       "9      0\n",
       "10     1\n",
       "11     0\n",
       "12     1\n",
       "13     1\n",
       "14     0\n",
       "15     1\n",
       "16     0\n",
       "17     0\n",
       "18     1\n",
       "19     0\n",
       "20     0\n",
       "21     0\n",
       "22     1\n",
       "23     0\n",
       "24     0\n",
       "25     0\n",
       "26     0\n",
       "27     1\n",
       "28     1\n",
       "29     1\n",
       "      ..\n",
       "900    1\n",
       "901    0\n",
       "902    0\n",
       "903    0\n",
       "904    0\n",
       "905    1\n",
       "906    0\n",
       "907    0\n",
       "908    1\n",
       "909    1\n",
       "910    1\n",
       "911    0\n",
       "912    0\n",
       "913    0\n",
       "914    0\n",
       "915    1\n",
       "916    0\n",
       "917    0\n",
       "918    0\n",
       "919    0\n",
       "920    1\n",
       "921    0\n",
       "922    0\n",
       "923    0\n",
       "924    1\n",
       "925    1\n",
       "926    0\n",
       "927    1\n",
       "928    1\n",
       "929    0\n",
       "Name: 肝气郁结证型系数, dtype: category\n",
       "Categories (4, int64): [0 < 1 < 2 < 3]"
      ]
     },
     "execution_count": 189,
     "metadata": {},
     "output_type": "execute_result"
    }
   ],
   "source": [
    "d2"
   ]
  },
  {
   "cell_type": "code",
   "execution_count": null,
   "metadata": {
    "collapsed": true
   },
   "outputs": [],
   "source": []
  },
  {
   "cell_type": "code",
   "execution_count": null,
   "metadata": {
    "collapsed": true
   },
   "outputs": [],
   "source": []
  },
  {
   "cell_type": "code",
   "execution_count": null,
   "metadata": {
    "collapsed": true
   },
   "outputs": [],
   "source": []
  }
 ],
 "metadata": {
  "anaconda-cloud": {},
  "kernelspec": {
   "display_name": "Python [conda root]",
   "language": "python",
   "name": "conda-root-py"
  },
  "language_info": {
   "codemirror_mode": {
    "name": "ipython",
    "version": 3
   },
   "file_extension": ".py",
   "mimetype": "text/x-python",
   "name": "python",
   "nbconvert_exporter": "python",
   "pygments_lexer": "ipython3",
   "version": "3.5.2"
  }
 },
 "nbformat": 4,
 "nbformat_minor": 1
}
