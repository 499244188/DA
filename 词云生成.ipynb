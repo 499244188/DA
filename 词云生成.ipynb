{
 "cells": [
  {
   "cell_type": "code",
   "execution_count": 164,
   "metadata": {
    "collapsed": false
   },
   "outputs": [],
   "source": [
    "import jieba\n",
    "import numpy as np\n",
    "import codecs\n",
    "import pandas as pd\n",
    "import matplotlib.pyplot as plt \n",
    "\n"
   ]
  },
  {
   "cell_type": "code",
   "execution_count": 176,
   "metadata": {
    "collapsed": false
   },
   "outputs": [],
   "source": [
    "file=codecs.open(u'C:/Users/Z/Desktop/新建文件夹/1111.txt','r',encoding='utf-8')"
   ]
  },
  {
   "cell_type": "code",
   "execution_count": 177,
   "metadata": {
    "collapsed": false
   },
   "outputs": [],
   "source": [
    "content=file.read()\n",
    "file.close()\n",
    "segment=[]\n",
    "segs=jieba.cut(content)"
   ]
  },
  {
   "cell_type": "code",
   "execution_count": 178,
   "metadata": {
    "collapsed": false
   },
   "outputs": [],
   "source": [
    "for seg in segs:\n",
    "    if len(seg)>1 and seg!= '\\r\\n':\n",
    "        segment.append(seg)"
   ]
  },
  {
   "cell_type": "code",
   "execution_count": null,
   "metadata": {
    "collapsed": false
   },
   "outputs": [],
   "source": []
  },
  {
   "cell_type": "code",
   "execution_count": 179,
   "metadata": {
    "collapsed": false
   },
   "outputs": [],
   "source": [
    "words_df=pd.DataFrame({'segment':segment})"
   ]
  },
  {
   "cell_type": "code",
   "execution_count": 180,
   "metadata": {
    "collapsed": false
   },
   "outputs": [],
   "source": [
    "words_stat=words_df.groupby(by=['segment'])['segment'].agg({\"计数\":np.size})"
   ]
  },
  {
   "cell_type": "code",
   "execution_count": 181,
   "metadata": {
    "collapsed": false
   },
   "outputs": [
    {
     "name": "stderr",
     "output_type": "stream",
     "text": [
      "d:\\Anaconda3\\lib\\site-packages\\ipykernel\\__main__.py:1: FutureWarning: sort(columns=....) is deprecated, use sort_values(by=.....)\n",
      "  if __name__ == '__main__':\n"
     ]
    }
   ],
   "source": [
    "words_stat=words_stat.reset_index().sort(columns=\"计数\",ascending=False)"
   ]
  },
  {
   "cell_type": "code",
   "execution_count": 192,
   "metadata": {
    "collapsed": false
   },
   "outputs": [],
   "source": [
    "ws[:500].to_csv(u'C:/Users/Z/Desktop/新建文件夹/bbb.txt')"
   ]
  },
  {
   "cell_type": "code",
   "execution_count": 183,
   "metadata": {
    "collapsed": false,
    "scrolled": true
   },
   "outputs": [],
   "source": [
    "from wordcloud import WordCloud, STOPWORDS, ImageColorGenerator  "
   ]
  },
  {
   "cell_type": "code",
   "execution_count": 184,
   "metadata": {
    "collapsed": false,
    "scrolled": true
   },
   "outputs": [
    {
     "name": "stdout",
     "output_type": "stream",
     "text": [
      "Using matplotlib backend: Qt4Agg\n"
     ]
    }
   ],
   "source": [
    "%matplotlib \n",
    "inlinewoedcloud=WordCloud(font_path=\"simhei.ttf\",background_color=\"black\")"
   ]
  },
  {
   "cell_type": "code",
   "execution_count": 200,
   "metadata": {
    "collapsed": false
   },
   "outputs": [],
   "source": [
    "from scipy.misc import imread  \n",
    "back_coloring = imread(u'C:/Users/Z/Desktop/新建文件夹/13.jpg')"
   ]
  },
  {
   "cell_type": "code",
   "execution_count": 201,
   "metadata": {
    "collapsed": false
   },
   "outputs": [],
   "source": [
    "import matplotlib.pyplot as plt  \n",
    "  \n",
    "from pylab import *  \n",
    "mpl.rcParams['font.sans-serif'] = ['SimHei']  "
   ]
  },
  {
   "cell_type": "code",
   "execution_count": 202,
   "metadata": {
    "collapsed": true
   },
   "outputs": [],
   "source": [
    "wc = WordCloud(font_path='C:/Users/Z/Desktop/新建文件夹/STZHONGS.TTF',#设置字体  \n",
    "                background_color=\"black\", #背景颜色  \n",
    "                max_words=2000,# 词云显示的最大词数  \n",
    "                mask=back_coloring,#设置背景图片  \n",
    "                max_font_size=100, #字体最大值  \n",
    "                random_state=10,  \n",
    "                )  "
   ]
  },
  {
   "cell_type": "code",
   "execution_count": 203,
   "metadata": {
    "collapsed": false
   },
   "outputs": [],
   "source": [
    "txt_freq=[('通道',294),('这个',292),('还是',288),('现在',279),('美国',270),('没有',268),('就是',254),('系列',248),('thinkpad',234),('BlackMan',231),('lenovo',227),('shop',226),('series',225),('us',225),('perksoffer',224),('en',224),('laptops',224),('知道',223),('淘宝',221),('兜兜',220),('斜眼',217),('消息',216),('美行',211),('一条',210),('撤回',208),('价格',208),('电脑',205),('怎么',194),('zuo',185),('手机',182),('die',181),('Bro',179),('这么',178),('全新',177),('买家',169),('不错',161),('QQ',161),('多少',157),('I7',157),('下单',155),('1080P',154),('开箱',154),('自己',151),('P50',147),('花屏哥',143),('红包',138),('w530',137),('那个',136),('确认',136),('全配',135),('你们',133),('司机',131),('天使',130),('lucky',130),('筱晓',129),('还有',127),('流浪',124),('Metatron',124),('感觉',123),('官翻',122),('8G',121),('256SSD',121),('不会',119),('T460S',119),('运费',119),('群主',112),('订单',112),('我们',112),('卧槽',104),('原因',103),('取消',102),('直接',97),('定金',96),('taobao',96),('时候',96),('哈哈',95),('一样',95),('反正',95),('喷血',95),('那么',94),('便宜',93),('机器',92),('800',92),('...',91),('黑桃',90),('总价',90),('Ice',90),('woc',89),('这样',89),('然后',89),('问题',88),('中国',87),('觉得',87),('10',85),('应该',85),('之前',85),('禽兽',85),('支付',84),('不要',84),('https',84),('今天',84),('不能',83),('不过',82),('doge',82),('已经',82),('6600U',80),('联想',79),('女王',79),('厉害',79),('EMS',79),('好像',79),('X1',78),('老王',78),('呵呵',78),('配置',75),('禁言',75),('公司',75),('管理员',75),('yoga',75),('独显',74),('看看',74),('黑人',74),('关税',73),('p50',72),('人民币',70),('WashWashSleep',69),('转账',68),('差不多',67),('看到',67),('东西',66),('支付宝',66),('以前',66),('定制',66),('还好',66),('风险',66),('卖家',65),('可能',65),('喜欢',64),('索赔',64),('登陆',63),('html',63),('YOGA',62),('全体成员',62),('密钥',62),('出来',61),('银行',61),('肯定',61),('系统',60),('有点',60),('www',60),('先款',60),('T440S',59),('这种',58),('貌似',57),('55',57),('两个',57),('2000',56),('付款',55),('但是',55),('一直',55),('估计',55),('发货',54),('不好',53),('THINKPAD',53),('退款',52),('大家',52),('T460P',51),('P70',51),('为什么',51),('使用',51),('人家',51),('以后',51),('小黑',51),('商家',51),('是不是',51),('收到',51),('导致',51),('BlackMen',50),('X260',50),('计算公式',50),('哈哈哈',50),('内存',50),('legend',49),('土豪',49),('报道',49),('8g',48),('开始',48),('一下',48),('厂货',48),('cn',48),('成功',48),('干嘛',47),('blackman',47),('go',47),('PERKSEPP',47),('NJ',47),('先拍',47),('分钟',47),('344626044',46),('shop57549466',46),('2301306980',46),('ID',46),('情怀',46),('say',46),('群号',46),('这是',46),('jitashou',46),('收货',46),('还要',45),('所以',45),('键盘',45),('I5',45),('16G',45),('阿牛',45),('不用',45),('low',45),('key',44),('11',44),('真的',44),('1000',44),('电池',44),('孩子',43),('余款',43),('明年',43),('的话',43),('全额',43),('硬盘',43),('500',42),('不行',42),('一个月',42),('哪个',42),('1080p',42),('顶配',42),('他们',42),('一次',42),('南城',41),('以为',41),('全场',41),('新版',41),('T560',41),('苹果',41),('不到',41),('买个',41),('只有',41),('北京',40),('准备',40),('代缴',39),('发现',39),('昨天',39),('海关',39),('起来',39),('一台',38),('哈哈哈哈',38),('20',38),('淘淘',38),('宝店',38),('本来',38),('黑五',38),('哪里',37),('负责',37),('金额',37),('有没有',37),('512SSD',37),('时间',37),('儿子',36),('有钱',36),('几个',36),('wei',36),('X1C',36),('查收',36),('而且',36),('因官',35),('460s',35),('小时',35),('需要',35),('一年',35),('USPS',35),('有人',35),('485',35),('一点',34),('只能',34),('加固',34),('或者',34),('回来',34),('自行',34),('赔偿',34),('群里',34),('正常',34),('比较',34),('E3',34),('默认',34),('丢失',33),('记得',33),('我要',33),('很多',33),('确实',33),('67',33),('运输',33),('其实',33),('立即',33),('进入',33),('特快',33),('更新',33),('毕竟',33),('14',33),('自负',33),('厌恶',33),('深圳',33),('二暴',33),('接管',32),('老婆',32),('妹子',32),('生产',32),('100',32),('谢谢合作',32),('win10',32),('速度',32),('E570',32),('破损',32),('显卡',32),('与否',32),('为先',32),('可怕',32),('协助',32),('中国海关',32),('无责',32),('工资',31),('没什么',31),('666',31),('星情',31),('X1YOGA',31),('意思',31),('今年',31),('原来',31),('笔记本',31),('Totoro',30),('江南',30),('朋友',30),('机械',30),('买买',30),('不了',30),('小米',30),('其他',30),('utm',30),('指纹',30),('要是',30),('本群',30),('居然',29),('因为',29),('一起',29),('套箱',29),('华为',29),('汇率',29),('到手',29),('同事',29),('京东',29),('..',29),('300',28),('而已',28),('不然',28),('545',28),('赶紧',28),('地方',28),('包顺丰',28),('保修',28),('极度',28),('645',28),('i7',27),('不如',27),('8500',27),('电源',27),('移动',27),('除了',27),('只是',27),('htm',27),('一天',27),('如果',27),('医院',26),('一般',26),('30',26),('女儿',26),('去年',26),('12',26),('国内',26),('116304459',26),('这些',26),('15',26),('明天',25),('算了',25),('学生',25),('房子',25),('一定',25),('支持',25),('6300U',25),('50',25),('我发',25),('小小',25),('官网',25),('要么',25),('解除',25),('考虑',25),('各种',25),('be',25),('基本',25),('玩意',25),('绝对',24),('纳尼',24),('当然',24),('share',24),('游戏',24),('还行',24),('x1',24),('加入',24),('那边',24),('尼玛',24),('U盘',24),('老板',24),('早就',24),('可惜',24),('日本',24),('上次',23),('我妹',23),('1Thdd',23),('机子',23),('只要',23),('晚上',23),('幸福生活',23),('460p',23),('优惠',23),('看着',23),('固态',23),('特么',23),('打开',23),('垃圾',22),('充电',22),('媳妇',22),('左右',22),('我家',22),('Timon',22),('过去',22),('美元',22),('qq',22),('特价',22),('smzdm',22),('屏幕',22),('亿美元',22),('背光',22),('方式',22),('宝宝',22),('虽然',22),('by',21),('蓝牙',21),('17',21),('好多',21),('自带',21),('结果',21),('今日',21),('4066375093',21),('突然',21),('invited',21),('升级',21),('散热',21),('上海',21),('有些',21),('果然',21),('口令',21),('再说',21),('5500',21),('....',21),('音响',21),('合适',21),('二手',21),('然而',21),('纠结',20),('领养',20),('文件',20),('ice',20),('最近',20),('盡風',20),('news',20),('GTX950m',20),('里面',20),('前夜',20),('雨鈴',20),('不够',20),('情况',20),('6000',20),('4G',20),('出现',20),('结婚',20),('当时',20),('阿哥',20),('几天',20),('降价',20),('几年',20),('6820HQ',20),('广州',20),('金色',20),('软件',20)]"
   ]
  },
  {
   "cell_type": "code",
   "execution_count": 204,
   "metadata": {
    "collapsed": false
   },
   "outputs": [
    {
     "data": {
      "text/plain": [
       "<wordcloud.wordcloud.WordCloud at 0xe944588>"
      ]
     },
     "execution_count": 204,
     "metadata": {},
     "output_type": "execute_result"
    }
   ],
   "source": [
    "wc.generate_from_frequencies(txt_freq)  "
   ]
  },
  {
   "cell_type": "code",
   "execution_count": 205,
   "metadata": {
    "collapsed": false,
    "scrolled": true
   },
   "outputs": [],
   "source": [
    " image_colors = ImageColorGenerator(back_coloring) "
   ]
  },
  {
   "cell_type": "code",
   "execution_count": 206,
   "metadata": {
    "collapsed": false
   },
   "outputs": [],
   "source": [
    "plt.figure()  \n",
    "# 以下代码显示图片  \n",
    "plt.imshow(wc)  \n",
    "plt.axis(\"off\")  \n",
    "plt.show() "
   ]
  },
  {
   "cell_type": "code",
   "execution_count": null,
   "metadata": {
    "collapsed": false
   },
   "outputs": [],
   "source": []
  },
  {
   "cell_type": "code",
   "execution_count": null,
   "metadata": {
    "collapsed": false
   },
   "outputs": [],
   "source": []
  },
  {
   "cell_type": "code",
   "execution_count": null,
   "metadata": {
    "collapsed": true
   },
   "outputs": [],
   "source": []
  }
 ],
 "metadata": {
  "anaconda-cloud": {},
  "kernelspec": {
   "display_name": "Python [Root]",
   "language": "python",
   "name": "Python [Root]"
  },
  "language_info": {
   "codemirror_mode": {
    "name": "ipython",
    "version": 3
   },
   "file_extension": ".py",
   "mimetype": "text/x-python",
   "name": "python",
   "nbconvert_exporter": "python",
   "pygments_lexer": "ipython3",
   "version": "3.5.1"
  }
 },
 "nbformat": 4,
 "nbformat_minor": 0
}
