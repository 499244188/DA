{
 "cells": [
  {
   "cell_type": "code",
   "execution_count": 1,
   "metadata": {
    "collapsed": true
   },
   "outputs": [],
   "source": [
    "import scipy as sp"
   ]
  },
  {
   "cell_type": "code",
   "execution_count": 3,
   "metadata": {
    "collapsed": false
   },
   "outputs": [],
   "source": [
    "data = sp.genfromtxt('C:/Users/Z/Desktop/web_traffic.tsv',delimiter='\\t')"
   ]
  },
  {
   "cell_type": "code",
   "execution_count": 11,
   "metadata": {
    "collapsed": false
   },
   "outputs": [],
   "source": [
    "data.shape\n",
    "x=data[:,0]\n",
    "y=data[:,1]"
   ]
  },
  {
   "cell_type": "code",
   "execution_count": 12,
   "metadata": {
    "collapsed": false
   },
   "outputs": [
    {
     "data": {
      "text/plain": [
       "8"
      ]
     },
     "execution_count": 12,
     "metadata": {},
     "output_type": "execute_result"
    }
   ],
   "source": [
    "sp.sum(sp.isnan(y))#确实值"
   ]
  },
  {
   "cell_type": "code",
   "execution_count": 13,
   "metadata": {
    "collapsed": true
   },
   "outputs": [],
   "source": [
    "x=x[~sp.isnan(y)]\n",
    "y=y[~sp.isnan(y)]"
   ]
  },
  {
   "cell_type": "code",
   "execution_count": 14,
   "metadata": {
    "collapsed": true
   },
   "outputs": [],
   "source": [
    "import matplotlib.pyplot as plt"
   ]
  },
  {
   "cell_type": "code",
   "execution_count": 38,
   "metadata": {
    "collapsed": true
   },
   "outputs": [],
   "source": [
    "plt.scatter(x,y)\n",
    "plt.title('Web tra........')\n",
    "plt.xlabel('Time')\n",
    "plt.ylabel('Hits/hour')\n",
    "plt.xticks([w*7*24 for w in range(10)],['week %i'%w for w in range(10)])\n",
    "plt.autoscale(tight=True)\n",
    "plt.grid(False)#网格线\n",
    "plt.show()"
   ]
  },
  {
   "cell_type": "code",
   "execution_count": 56,
   "metadata": {
    "collapsed": true
   },
   "outputs": [],
   "source": [
    "def error1(f,x,y):\n",
    "    return sp.sum((f(x)-y)**2)"
   ]
  },
  {
   "cell_type": "code",
   "execution_count": 22,
   "metadata": {
    "collapsed": true
   },
   "outputs": [],
   "source": [
    "fp1,residuals,rank,sv,rcond = sp.polyfit(x,y,1,full=True)"
   ]
  },
  {
   "cell_type": "code",
   "execution_count": 23,
   "metadata": {
    "collapsed": false
   },
   "outputs": [
    {
     "name": "stdout",
     "output_type": "stream",
     "text": [
      "model parameters:[   2.59619213  989.02487106]\n"
     ]
    }
   ],
   "source": [
    "print(\"model parameters:%s\" % fp1)#f(x) = 2.59619213 * x + 989.02487106"
   ]
  },
  {
   "cell_type": "code",
   "execution_count": 27,
   "metadata": {
    "collapsed": false
   },
   "outputs": [
    {
     "name": "stdout",
     "output_type": "stream",
     "text": [
      "[  3.17389767e+08]\n"
     ]
    }
   ],
   "source": [
    "print(residuals)"
   ]
  },
  {
   "cell_type": "code",
   "execution_count": 29,
   "metadata": {
    "collapsed": false
   },
   "outputs": [],
   "source": [
    "f1=sp.poly1d(fp1)"
   ]
  },
  {
   "cell_type": "code",
   "execution_count": 35,
   "metadata": {
    "collapsed": false
   },
   "outputs": [
    {
     "name": "stdout",
     "output_type": "stream",
     "text": [
      "-3372154922.0\n"
     ]
    }
   ],
   "source": [
    "print(error1(f1,x,y))"
   ]
  },
  {
   "cell_type": "code",
   "execution_count": 36,
   "metadata": {
    "collapsed": false
   },
   "outputs": [
    {
     "data": {
      "text/plain": [
       "<matplotlib.legend.Legend at 0x82cb358>"
      ]
     },
     "execution_count": 36,
     "metadata": {},
     "output_type": "execute_result"
    }
   ],
   "source": [
    "fx=sp.linspace(0,x[-1],10000)\n",
    "plt.plot(fx,f1(fx),linewidth=4)\n",
    "plt.legend(['d=%i'% f1.order], loc='upper left')"
   ]
  },
  {
   "cell_type": "code",
   "execution_count": 39,
   "metadata": {
    "collapsed": true
   },
   "outputs": [],
   "source": [
    "plt.scatter(x,y)\n",
    "plt.title('Web tra........')\n",
    "plt.xlabel('Time')\n",
    "plt.ylabel('Hits/hour')\n",
    "plt.xticks([w*7*24 for w in range(10)],['week %i'%w for w in range(10)])\n",
    "plt.autoscale(tight=True)\n",
    "plt.grid(False)#网格线\n",
    "fx=sp.linspace(0,x[-1],10000)\n",
    "plt.plot(fx,f1(fx),linewidth=4)\n",
    "plt.legend(['d=%i'% f1.order], loc='upper left')\n",
    "plt.show()"
   ]
  },
  {
   "cell_type": "code",
   "execution_count": 59,
   "metadata": {
    "collapsed": false
   },
   "outputs": [
    {
     "name": "stderr",
     "output_type": "stream",
     "text": [
      "d:\\Anaconda3\\lib\\site-packages\\numpy\\lib\\polynomial.py:587: RuntimeWarning: overflow encountered in multiply\n",
      "  scale = NX.sqrt((lhs*lhs).sum(axis=0))\n",
      "d:\\Anaconda3\\lib\\site-packages\\numpy\\lib\\polynomial.py:595: RankWarning: Polyfit may be poorly conditioned\n",
      "  warnings.warn(msg, RankWarning)\n"
     ]
    },
    {
     "data": {
      "text/plain": [
       "array([  0.00000000e+000,   0.00000000e+000,   0.00000000e+000,\n",
       "         0.00000000e+000,  -0.00000000e+000,  -0.00000000e+000,\n",
       "        -0.00000000e+000,   0.00000000e+000,   0.00000000e+000,\n",
       "         0.00000000e+000,   0.00000000e+000,  -0.00000000e+000,\n",
       "         0.00000000e+000,  -0.00000000e+000,  -0.00000000e+000,\n",
       "         0.00000000e+000,   0.00000000e+000,  -0.00000000e+000,\n",
       "        -0.00000000e+000,  -0.00000000e+000,  -0.00000000e+000,\n",
       "         0.00000000e+000,  -0.00000000e+000,  -0.00000000e+000,\n",
       "         0.00000000e+000,   0.00000000e+000,  -0.00000000e+000,\n",
       "         0.00000000e+000,   0.00000000e+000,   0.00000000e+000,\n",
       "        -0.00000000e+000,   0.00000000e+000,   0.00000000e+000,\n",
       "         0.00000000e+000,   0.00000000e+000,   0.00000000e+000,\n",
       "         0.00000000e+000,   0.00000000e+000,   0.00000000e+000,\n",
       "         0.00000000e+000,   0.00000000e+000,   0.00000000e+000,\n",
       "         0.00000000e+000,   0.00000000e+000,   0.00000000e+000,\n",
       "         0.00000000e+000,   0.00000000e+000,  -6.72768119e-140,\n",
       "         1.19708099e-136,  -4.65697510e-135,  -4.66513224e-131,\n",
       "        -2.54256836e-128,   2.25924436e-126,   1.39019793e-122,\n",
       "         1.16115756e-119,   4.32318362e-117,  -1.50800580e-114,\n",
       "        -3.76712099e-111,  -3.20570042e-108,  -1.48603157e-105,\n",
       "         6.29794201e-104,   8.53761040e-100,   9.11103037e-097,\n",
       "         5.56892837e-094,   1.31787895e-091,  -1.52922918e-088,\n",
       "        -2.41423049e-085,  -1.85000390e-082,  -7.30077181e-080,\n",
       "         2.08193002e-077,   6.26339909e-074,   5.61006997e-071,\n",
       "         2.52775354e-068,  -4.42164757e-066,  -1.85480082e-062,\n",
       "        -1.62953993e-059,  -5.76757519e-057,   3.55018979e-054,\n",
       "         6.50763583e-051,   3.79808546e-048,  -4.37115840e-046,\n",
       "        -2.48072263e-042,  -1.57880132e-039,   3.46005202e-037,\n",
       "         1.09219210e-033,   3.34477139e-031,  -4.93804727e-028,\n",
       "        -2.97868338e-025,   2.64869136e-022,   1.18825233e-019,\n",
       "        -2.02256692e-016,   1.03630556e-013,  -2.90567951e-011,\n",
       "         4.79797892e-009,  -4.21130704e-007,   5.98934699e-006,\n",
       "         2.59164049e-003,  -2.60171747e-001,   1.03503066e+001,\n",
       "        -1.60100152e+002,   2.14971672e+003])"
      ]
     },
     "execution_count": 59,
     "metadata": {},
     "output_type": "execute_result"
    }
   ],
   "source": [
    "f2p=sp.polyfit(x,y,100)\n",
    "f2p"
   ]
  },
  {
   "cell_type": "code",
   "execution_count": 61,
   "metadata": {
    "collapsed": false
   },
   "outputs": [],
   "source": [
    "f10=sp.poly1d(f2p)"
   ]
  },
  {
   "cell_type": "code",
   "execution_count": 62,
   "metadata": {
    "collapsed": false
   },
   "outputs": [
    {
     "name": "stdout",
     "output_type": "stream",
     "text": [
      "109452390.78\n"
     ]
    }
   ],
   "source": [
    "print(error1(f10,x,y))"
   ]
  },
  {
   "cell_type": "code",
   "execution_count": 64,
   "metadata": {
    "collapsed": true
   },
   "outputs": [],
   "source": [
    "plt.scatter(x,y)\n",
    "plt.title('Web tra........')\n",
    "plt.xlabel('Time')\n",
    "plt.ylabel('Hits/hour')\n",
    "plt.xticks([w*7*24 for w in range(10)],['week %i'%w for w in range(10)])\n",
    "plt.autoscale(tight=True)\n",
    "plt.grid(False)#网格线\n",
    "fx=sp.linspace(0,x[-1],10000)\n",
    "plt.plot(fx,f10(fx),linewidth=4,color='red')\n",
    "plt.legend(['d=%i'% f10.order], loc='upper left')\n",
    "plt.show()"
   ]
  },
  {
   "cell_type": "code",
   "execution_count": 67,
   "metadata": {
    "collapsed": false
   },
   "outputs": [
    {
     "name": "stderr",
     "output_type": "stream",
     "text": [
      "d:\\Anaconda3\\lib\\site-packages\\ipykernel\\__main__.py:2: VisibleDeprecationWarning: using a non-integer number instead of an integer will result in an error in the future\n",
      "  from ipykernel import kernelapp as app\n",
      "d:\\Anaconda3\\lib\\site-packages\\ipykernel\\__main__.py:3: VisibleDeprecationWarning: using a non-integer number instead of an integer will result in an error in the future\n",
      "  app.launch_new_instance()\n",
      "d:\\Anaconda3\\lib\\site-packages\\ipykernel\\__main__.py:4: VisibleDeprecationWarning: using a non-integer number instead of an integer will result in an error in the future\n",
      "d:\\Anaconda3\\lib\\site-packages\\ipykernel\\__main__.py:5: VisibleDeprecationWarning: using a non-integer number instead of an integer will result in an error in the future\n"
     ]
    }
   ],
   "source": [
    "inflection=3.5*7*24#计算拐点时的小数\n",
    "xa=x[:inflection]#拐点之前的数据\n",
    "ya=y[:inflection]\n",
    "xb=x[inflection:]#拐点之后的数据\n",
    "yb=y[inflection:]"
   ]
  },
  {
   "cell_type": "code",
   "execution_count": 70,
   "metadata": {
    "collapsed": false
   },
   "outputs": [],
   "source": [
    "fa=sp.poly1d(sp.polyfit(xa,ya,1))\n",
    "fb=sp.poly1d(sp.polyfit(xb,yb,1))"
   ]
  },
  {
   "cell_type": "code",
   "execution_count": 76,
   "metadata": {
    "collapsed": false
   },
   "outputs": [],
   "source": [
    "fa_error=error1(fa,xa,ya)\n",
    "fb_error=error1(fb,xb,yb)"
   ]
  },
  {
   "cell_type": "code",
   "execution_count": 83,
   "metadata": {
    "collapsed": false
   },
   "outputs": [
    {
     "name": "stdout",
     "output_type": "stream",
     "text": [
      "Error inflection= \n",
      "0.8399 x + 2.215e+07\n"
     ]
    }
   ],
   "source": [
    "print(\"Error inflection=%s\" % (fa+fb_error))"
   ]
  },
  {
   "cell_type": "code",
   "execution_count": 82,
   "metadata": {
    "collapsed": false
   },
   "outputs": [
    {
     "data": {
      "text/plain": [
       "poly1d([  8.39949235e-01,   2.21453412e+07])"
      ]
     },
     "execution_count": 82,
     "metadata": {},
     "output_type": "execute_result"
    }
   ],
   "source": [
    "fa+fb_error"
   ]
  },
  {
   "cell_type": "code",
   "execution_count": 85,
   "metadata": {
    "collapsed": false
   },
   "outputs": [
    {
     "ename": "NameError",
     "evalue": "name 'fb2' is not defined",
     "output_type": "error",
     "traceback": [
      "\u001b[1;31m---------------------------------------------------------------------------\u001b[0m",
      "\u001b[1;31mNameError\u001b[0m                                 Traceback (most recent call last)",
      "\u001b[1;32m<ipython-input-85-d318754dc318>\u001b[0m in \u001b[0;36m<module>\u001b[1;34m()\u001b[0m\n\u001b[1;32m----> 1\u001b[1;33m \u001b[0mprint\u001b[0m\u001b[1;33m(\u001b[0m\u001b[0mfb2\u001b[0m\u001b[1;33m)\u001b[0m\u001b[1;33m\u001b[0m\u001b[0m\n\u001b[0m",
      "\u001b[1;31mNameError\u001b[0m: name 'fb2' is not defined"
     ]
    }
   ],
   "source": []
  },
  {
   "cell_type": "code",
   "execution_count": null,
   "metadata": {
    "collapsed": true
   },
   "outputs": [],
   "source": []
  }
 ],
 "metadata": {
  "anaconda-cloud": {},
  "kernelspec": {
   "display_name": "Python [Root]",
   "language": "python",
   "name": "Python [Root]"
  },
  "language_info": {
   "codemirror_mode": {
    "name": "ipython",
    "version": 3
   },
   "file_extension": ".py",
   "mimetype": "text/x-python",
   "name": "python",
   "nbconvert_exporter": "python",
   "pygments_lexer": "ipython3",
   "version": "3.5.1"
  }
 },
 "nbformat": 4,
 "nbformat_minor": 0
}
