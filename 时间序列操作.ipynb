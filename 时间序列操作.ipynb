{
 "cells": [
  {
   "cell_type": "code",
   "execution_count": 1,
   "metadata": {
    "collapsed": true
   },
   "outputs": [],
   "source": [
    "from datetime import datetime"
   ]
  },
  {
   "cell_type": "code",
   "execution_count": 2,
   "metadata": {
    "collapsed": true
   },
   "outputs": [],
   "source": [
    "now="
   ]
  },
  {
   "cell_type": "code",
   "execution_count": 3,
   "metadata": {
    "collapsed": false
   },
   "outputs": [
    {
     "data": {
      "text/plain": [
       "datetime.datetime(2016, 11, 13, 7, 38, 27, 545923)"
      ]
     },
     "execution_count": 3,
     "metadata": {},
     "output_type": "execute_result"
    }
   ],
   "source": [
    "now"
   ]
  },
  {
   "cell_type": "code",
   "execution_count": 14,
   "metadata": {
    "collapsed": false
   },
   "outputs": [
    {
     "data": {
      "text/plain": [
       "datetime.datetime(2016, 11, 13, 7, 38, 50, 898345)"
      ]
     },
     "execution_count": 14,
     "metadata": {},
     "output_type": "execute_result"
    }
   ],
   "source": [
    "datetime.now()"
   ]
  },
  {
   "cell_type": "code",
   "execution_count": 17,
   "metadata": {
    "collapsed": false
   },
   "outputs": [
    {
     "data": {
      "text/plain": [
       "(2016, 11, 13)"
      ]
     },
     "execution_count": 17,
     "metadata": {},
     "output_type": "execute_result"
    }
   ],
   "source": [
    "now.year,now.month,now.day"
   ]
  },
  {
   "cell_type": "code",
   "execution_count": 38,
   "metadata": {
    "collapsed": false
   },
   "outputs": [],
   "source": [
    "delta=datetime(2008,6,25) - datetime(2008,6,24,0,0,0,1)"
   ]
  },
  {
   "cell_type": "code",
   "execution_count": 39,
   "metadata": {
    "collapsed": false
   },
   "outputs": [
    {
     "data": {
      "text/plain": [
       "datetime.timedelta(0, 86399, 999999)"
      ]
     },
     "execution_count": 39,
     "metadata": {},
     "output_type": "execute_result"
    }
   ],
   "source": [
    "delta"
   ]
  },
  {
   "cell_type": "code",
   "execution_count": 40,
   "metadata": {
    "collapsed": true
   },
   "outputs": [],
   "source": [
    "from datetime import timedelta"
   ]
  },
  {
   "cell_type": "code",
   "execution_count": 41,
   "metadata": {
    "collapsed": true
   },
   "outputs": [],
   "source": [
    "start = datetime(2011,1,7)"
   ]
  },
  {
   "cell_type": "code",
   "execution_count": 42,
   "metadata": {
    "collapsed": false
   },
   "outputs": [
    {
     "data": {
      "text/plain": [
       "datetime.datetime(2011, 1, 19, 0, 0)"
      ]
     },
     "execution_count": 42,
     "metadata": {},
     "output_type": "execute_result"
    }
   ],
   "source": [
    "start+timedelta(12)# timedelta=天"
   ]
  },
  {
   "cell_type": "code",
   "execution_count": 43,
   "metadata": {
    "collapsed": true
   },
   "outputs": [],
   "source": [
    "stamp = datetime(2011,1,3)"
   ]
  },
  {
   "cell_type": "code",
   "execution_count": 44,
   "metadata": {
    "collapsed": false
   },
   "outputs": [
    {
     "data": {
      "text/plain": [
       "'2011-01-03 00:00:00'"
      ]
     },
     "execution_count": 44,
     "metadata": {},
     "output_type": "execute_result"
    }
   ],
   "source": [
    "str(stamp)"
   ]
  },
  {
   "cell_type": "code",
   "execution_count": 51,
   "metadata": {
    "collapsed": false
   },
   "outputs": [
    {
     "data": {
      "text/plain": [
       "'2011-01-03'"
      ]
     },
     "execution_count": 51,
     "metadata": {},
     "output_type": "execute_result"
    }
   ],
   "source": [
    "stamp.strftime('%Y-%m-%d')#格式化时间"
   ]
  },
  {
   "cell_type": "code",
   "execution_count": 52,
   "metadata": {
    "collapsed": true
   },
   "outputs": [],
   "source": [
    "value= '2011-01-03'"
   ]
  },
  {
   "cell_type": "code",
   "execution_count": 53,
   "metadata": {
    "collapsed": false
   },
   "outputs": [
    {
     "data": {
      "text/plain": [
       "datetime.datetime(2011, 1, 3, 0, 0)"
      ]
     },
     "execution_count": 53,
     "metadata": {},
     "output_type": "execute_result"
    }
   ],
   "source": [
    "datetime.strptime(value,'%Y-%m-%d')"
   ]
  },
  {
   "cell_type": "code",
   "execution_count": 83,
   "metadata": {
    "collapsed": true
   },
   "outputs": [],
   "source": [
    "datestrs=['8/6/2011','7/6/2011']"
   ]
  },
  {
   "cell_type": "code",
   "execution_count": 56,
   "metadata": {
    "collapsed": false
   },
   "outputs": [
    {
     "data": {
      "text/plain": [
       "[datetime.datetime(2011, 7, 6, 0, 0), datetime.datetime(2011, 8, 6, 0, 0)]"
      ]
     },
     "execution_count": 56,
     "metadata": {},
     "output_type": "execute_result"
    }
   ],
   "source": [
    "[datetime.strptime(x,'%m/%d/%Y') for x in datestrs]"
   ]
  },
  {
   "cell_type": "code",
   "execution_count": 58,
   "metadata": {
    "collapsed": false
   },
   "outputs": [],
   "source": [
    "from dateutil.parser import parse"
   ]
  },
  {
   "cell_type": "code",
   "execution_count": 59,
   "metadata": {
    "collapsed": false
   },
   "outputs": [
    {
     "data": {
      "text/plain": [
       "datetime.datetime(2011, 1, 3, 0, 0)"
      ]
     },
     "execution_count": 59,
     "metadata": {},
     "output_type": "execute_result"
    }
   ],
   "source": [
    "parse('2011-01-03')"
   ]
  },
  {
   "cell_type": "code",
   "execution_count": 63,
   "metadata": {
    "collapsed": false
   },
   "outputs": [
    {
     "data": {
      "text/plain": [
       "datetime.datetime(1997, 1, 31, 22, 45)"
      ]
     },
     "execution_count": 63,
     "metadata": {},
     "output_type": "execute_result"
    }
   ],
   "source": [
    "parse('Jan 31 1997 10:45 PM')"
   ]
  },
  {
   "cell_type": "code",
   "execution_count": 66,
   "metadata": {
    "collapsed": false
   },
   "outputs": [
    {
     "data": {
      "text/plain": [
       "datetime.datetime(2011, 12, 6, 0, 0)"
      ]
     },
     "execution_count": 66,
     "metadata": {},
     "output_type": "execute_result"
    }
   ],
   "source": [
    "parse('6/12/2011',dayfirst=True)#解决日期出现在月份前面"
   ]
  },
  {
   "cell_type": "code",
   "execution_count": 84,
   "metadata": {
    "collapsed": false
   },
   "outputs": [
    {
     "data": {
      "text/plain": [
       "['8/6/2011', '7/6/2011']"
      ]
     },
     "execution_count": 84,
     "metadata": {},
     "output_type": "execute_result"
    }
   ],
   "source": [
    "datestrs"
   ]
  },
  {
   "cell_type": "code",
   "execution_count": 97,
   "metadata": {
    "collapsed": true
   },
   "outputs": [],
   "source": [
    "from pandas import DataFrame,Series\n",
    "import pandas as pd\n",
    "import numpy as np"
   ]
  },
  {
   "cell_type": "code",
   "execution_count": 86,
   "metadata": {
    "collapsed": false
   },
   "outputs": [
    {
     "data": {
      "text/plain": [
       "DatetimeIndex(['2011-08-06', '2011-07-06'], dtype='datetime64[ns]', freq=None)"
      ]
     },
     "execution_count": 86,
     "metadata": {},
     "output_type": "execute_result"
    }
   ],
   "source": [
    "pd.to_datetime(datestrs)"
   ]
  },
  {
   "cell_type": "code",
   "execution_count": 87,
   "metadata": {
    "collapsed": true
   },
   "outputs": [],
   "source": [
    "idx = pd.to_datetime(datestrs+[None])"
   ]
  },
  {
   "cell_type": "code",
   "execution_count": 88,
   "metadata": {
    "collapsed": false
   },
   "outputs": [
    {
     "data": {
      "text/plain": [
       "DatetimeIndex(['2011-08-06', '2011-07-06', 'NaT'], dtype='datetime64[ns]', freq=None)"
      ]
     },
     "execution_count": 88,
     "metadata": {},
     "output_type": "execute_result"
    }
   ],
   "source": [
    "daidx"
   ]
  },
  {
   "cell_type": "code",
   "execution_count": 92,
   "metadata": {
    "collapsed": false
   },
   "outputs": [
    {
     "name": "stdout",
     "output_type": "stream",
     "text": [
      "2011-08-06 00:00:00\n",
      "2011-07-06 00:00:00\n",
      "NaT\n"
     ]
    }
   ],
   "source": [
    "for x in idx:\n",
    "    print(x)"
   ]
  },
  {
   "cell_type": "code",
   "execution_count": 93,
   "metadata": {
    "collapsed": false
   },
   "outputs": [
    {
     "data": {
      "text/plain": [
       "array([False, False,  True], dtype=bool)"
      ]
     },
     "execution_count": 93,
     "metadata": {},
     "output_type": "execute_result"
    }
   ],
   "source": [
    "pd.isnull(idx)"
   ]
  },
  {
   "cell_type": "code",
   "execution_count": 94,
   "metadata": {
    "collapsed": true
   },
   "outputs": [],
   "source": [
    "dates=[datetime(2011,1,2),datetime(2011,1,5),datetime(2011,1,7),datetime(2011,1,8),datetime(2011,1,10),datetime(2011,1,12)\n",
    "]"
   ]
  },
  {
   "cell_type": "code",
   "execution_count": 98,
   "metadata": {
    "collapsed": false
   },
   "outputs": [],
   "source": [
    "ts=Series(np.random.randn(6),index=dates)"
   ]
  },
  {
   "cell_type": "code",
   "execution_count": 99,
   "metadata": {
    "collapsed": false
   },
   "outputs": [
    {
     "data": {
      "text/plain": [
       "2011-01-02   -0.198250\n",
       "2011-01-05    1.614387\n",
       "2011-01-07    0.019206\n",
       "2011-01-08    0.060842\n",
       "2011-01-10    0.249072\n",
       "2011-01-12   -0.111519\n",
       "dtype: float64"
      ]
     },
     "execution_count": 99,
     "metadata": {},
     "output_type": "execute_result"
    }
   ],
   "source": [
    "ts"
   ]
  },
  {
   "cell_type": "code",
   "execution_count": 100,
   "metadata": {
    "collapsed": false
   },
   "outputs": [
    {
     "data": {
      "text/plain": [
       "pandas.core.series.Series"
      ]
     },
     "execution_count": 100,
     "metadata": {},
     "output_type": "execute_result"
    }
   ],
   "source": [
    "type(ts)"
   ]
  },
  {
   "cell_type": "code",
   "execution_count": 103,
   "metadata": {
    "collapsed": false
   },
   "outputs": [
    {
     "data": {
      "text/plain": [
       "DatetimeIndex(['2011-01-02', '2011-01-05', '2011-01-07', '2011-01-08',\n",
       "               '2011-01-10', '2011-01-12'],\n",
       "              dtype='datetime64[ns]', freq=None)"
      ]
     },
     "execution_count": 103,
     "metadata": {},
     "output_type": "execute_result"
    }
   ],
   "source": [
    "ts.index"
   ]
  },
  {
   "cell_type": "code",
   "execution_count": 106,
   "metadata": {
    "collapsed": false
   },
   "outputs": [
    {
     "data": {
      "text/plain": [
       "2011-01-02   -0.396499\n",
       "2011-01-05    3.228774\n",
       "2011-01-07         NaN\n",
       "2011-01-08         NaN\n",
       "2011-01-10         NaN\n",
       "2011-01-12         NaN\n",
       "dtype: float64"
      ]
     },
     "execution_count": 106,
     "metadata": {},
     "output_type": "execute_result"
    }
   ],
   "source": [
    "ts+ts[:2]"
   ]
  },
  {
   "cell_type": "code",
   "execution_count": 107,
   "metadata": {
    "collapsed": false
   },
   "outputs": [
    {
     "data": {
      "text/plain": [
       "dtype('<M8[ns]')"
      ]
     },
     "execution_count": 107,
     "metadata": {},
     "output_type": "execute_result"
    }
   ],
   "source": [
    "ts.index.dtype"
   ]
  },
  {
   "cell_type": "code",
   "execution_count": 108,
   "metadata": {
    "collapsed": true
   },
   "outputs": [],
   "source": [
    "stamp = ts.index[0]"
   ]
  },
  {
   "cell_type": "code",
   "execution_count": 109,
   "metadata": {
    "collapsed": false
   },
   "outputs": [
    {
     "data": {
      "text/plain": [
       "Timestamp('2011-01-02 00:00:00')"
      ]
     },
     "execution_count": 109,
     "metadata": {},
     "output_type": "execute_result"
    }
   ],
   "source": [
    "stamp"
   ]
  },
  {
   "cell_type": "code",
   "execution_count": 110,
   "metadata": {
    "collapsed": true
   },
   "outputs": [],
   "source": [
    "stamp = ts.index[2]"
   ]
  },
  {
   "cell_type": "code",
   "execution_count": 111,
   "metadata": {
    "collapsed": false
   },
   "outputs": [
    {
     "data": {
      "text/plain": [
       "0.019205819961528207"
      ]
     },
     "execution_count": 111,
     "metadata": {},
     "output_type": "execute_result"
    }
   ],
   "source": [
    "ts[stamp]"
   ]
  },
  {
   "cell_type": "code",
   "execution_count": 114,
   "metadata": {
    "collapsed": false
   },
   "outputs": [
    {
     "data": {
      "text/plain": [
       "0.019205819961528207"
      ]
     },
     "execution_count": 114,
     "metadata": {},
     "output_type": "execute_result"
    }
   ],
   "source": [
    "ts['20110107']"
   ]
  },
  {
   "cell_type": "code",
   "execution_count": 113,
   "metadata": {
    "collapsed": false
   },
   "outputs": [
    {
     "data": {
      "text/plain": [
       "Timestamp('2011-01-07 00:00:00')"
      ]
     },
     "execution_count": 113,
     "metadata": {},
     "output_type": "execute_result"
    }
   ],
   "source": [
    "ts.index[2]"
   ]
  },
  {
   "cell_type": "code",
   "execution_count": 115,
   "metadata": {
    "collapsed": true
   },
   "outputs": [],
   "source": [
    "longer_ts=Series(np.random.randn(1000),index=pd.date_range('1/1/2000',periods=1000))"
   ]
  },
  {
   "cell_type": "code",
   "execution_count": 116,
   "metadata": {
    "collapsed": false,
    "scrolled": true
   },
   "outputs": [
    {
     "data": {
      "text/plain": [
       "2000-01-01   -0.353405\n",
       "2000-01-02   -1.623101\n",
       "2000-01-03   -2.176310\n",
       "2000-01-04   -1.062654\n",
       "2000-01-05    1.010893\n",
       "2000-01-06    0.554013\n",
       "2000-01-07    1.561996\n",
       "2000-01-08   -0.849444\n",
       "2000-01-09   -1.048045\n",
       "2000-01-10    0.648530\n",
       "2000-01-11   -1.586804\n",
       "2000-01-12   -0.480224\n",
       "2000-01-13    1.139236\n",
       "2000-01-14   -0.320818\n",
       "2000-01-15    0.600223\n",
       "2000-01-16   -2.344158\n",
       "2000-01-17   -1.233277\n",
       "2000-01-18    1.588753\n",
       "2000-01-19   -1.503230\n",
       "2000-01-20   -0.837221\n",
       "2000-01-21   -0.154620\n",
       "2000-01-22   -0.709425\n",
       "2000-01-23    1.138822\n",
       "2000-01-24   -0.529102\n",
       "2000-01-25   -1.920138\n",
       "2000-01-26    1.057031\n",
       "2000-01-27    0.287100\n",
       "2000-01-28   -0.278127\n",
       "2000-01-29   -0.970479\n",
       "2000-01-30   -0.990012\n",
       "                ...   \n",
       "2002-08-28   -1.000566\n",
       "2002-08-29    1.407854\n",
       "2002-08-30    0.611542\n",
       "2002-08-31    0.324608\n",
       "2002-09-01   -0.723798\n",
       "2002-09-02   -0.057820\n",
       "2002-09-03   -0.405694\n",
       "2002-09-04   -0.916716\n",
       "2002-09-05   -0.771386\n",
       "2002-09-06    1.029887\n",
       "2002-09-07   -0.039700\n",
       "2002-09-08   -1.599799\n",
       "2002-09-09   -0.856321\n",
       "2002-09-10    1.361228\n",
       "2002-09-11    0.337133\n",
       "2002-09-12    0.133526\n",
       "2002-09-13   -0.061661\n",
       "2002-09-14   -0.044425\n",
       "2002-09-15   -1.111794\n",
       "2002-09-16   -0.459103\n",
       "2002-09-17   -1.317660\n",
       "2002-09-18    1.175051\n",
       "2002-09-19    0.710587\n",
       "2002-09-20    0.690975\n",
       "2002-09-21    1.805466\n",
       "2002-09-22   -0.882025\n",
       "2002-09-23   -1.553503\n",
       "2002-09-24    0.074918\n",
       "2002-09-25   -1.570344\n",
       "2002-09-26   -0.473180\n",
       "Freq: D, dtype: float64"
      ]
     },
     "execution_count": 116,
     "metadata": {},
     "output_type": "execute_result"
    }
   ],
   "source": [
    "longer_ts"
   ]
  },
  {
   "cell_type": "code",
   "execution_count": 121,
   "metadata": {
    "collapsed": false,
    "scrolled": true
   },
   "outputs": [
    {
     "data": {
      "text/plain": [
       "<bound method Series.count of 2001-01-01    0.532665\n",
       "2001-01-02   -0.219147\n",
       "2001-01-03   -0.791591\n",
       "2001-01-04   -0.539068\n",
       "2001-01-05    0.191054\n",
       "2001-01-06   -0.887410\n",
       "2001-01-07    0.352648\n",
       "2001-01-08   -0.507054\n",
       "2001-01-09   -1.457576\n",
       "2001-01-10    1.085680\n",
       "2001-01-11   -1.443292\n",
       "2001-01-12   -0.390650\n",
       "2001-01-13   -2.714298\n",
       "2001-01-14   -0.968332\n",
       "2001-01-15    1.298508\n",
       "2001-01-16   -0.008991\n",
       "2001-01-17   -0.037379\n",
       "2001-01-18   -0.061215\n",
       "2001-01-19   -0.534379\n",
       "2001-01-20    1.880015\n",
       "2001-01-21    0.698449\n",
       "2001-01-22   -0.967855\n",
       "2001-01-23    1.025725\n",
       "2001-01-24   -0.376962\n",
       "2001-01-25   -0.225372\n",
       "2001-01-26    0.192333\n",
       "2001-01-27   -0.095148\n",
       "2001-01-28   -1.429339\n",
       "2001-01-29   -0.062606\n",
       "2001-01-30    1.811347\n",
       "                ...   \n",
       "2001-12-02   -0.038144\n",
       "2001-12-03    0.291322\n",
       "2001-12-04   -1.162582\n",
       "2001-12-05   -1.344056\n",
       "2001-12-06   -0.885954\n",
       "2001-12-07   -0.859508\n",
       "2001-12-08   -1.469816\n",
       "2001-12-09   -0.154703\n",
       "2001-12-10   -1.259497\n",
       "2001-12-11   -0.864391\n",
       "2001-12-12   -0.396015\n",
       "2001-12-13   -0.721492\n",
       "2001-12-14    0.694247\n",
       "2001-12-15    0.327875\n",
       "2001-12-16   -0.923350\n",
       "2001-12-17    0.710554\n",
       "2001-12-18    0.758608\n",
       "2001-12-19   -0.994710\n",
       "2001-12-20    1.158868\n",
       "2001-12-21    0.845890\n",
       "2001-12-22    0.933718\n",
       "2001-12-23   -2.556060\n",
       "2001-12-24   -0.118630\n",
       "2001-12-25   -0.064160\n",
       "2001-12-26   -1.646003\n",
       "2001-12-27   -0.791371\n",
       "2001-12-28    0.773155\n",
       "2001-12-29   -0.589282\n",
       "2001-12-30   -1.583083\n",
       "2001-12-31   -1.621413\n",
       "Freq: D, dtype: float64>"
      ]
     },
     "execution_count": 121,
     "metadata": {},
     "output_type": "execute_result"
    }
   ],
   "source": [
    "longer_ts['2001']"
   ]
  },
  {
   "cell_type": "code",
   "execution_count": 122,
   "metadata": {
    "collapsed": false
   },
   "outputs": [
    {
     "data": {
      "text/plain": [
       "2001-05-01    0.249810\n",
       "2001-05-02   -0.626645\n",
       "2001-05-03    1.305935\n",
       "2001-05-04   -0.458965\n",
       "2001-05-05    0.610225\n",
       "2001-05-06    1.778866\n",
       "2001-05-07   -0.143224\n",
       "2001-05-08   -1.508398\n",
       "2001-05-09    0.892419\n",
       "2001-05-10    2.043346\n",
       "2001-05-11    1.580947\n",
       "2001-05-12    0.334691\n",
       "2001-05-13   -0.650004\n",
       "2001-05-14   -1.588414\n",
       "2001-05-15   -0.800157\n",
       "2001-05-16    0.908608\n",
       "2001-05-17    0.589222\n",
       "2001-05-18    0.817037\n",
       "2001-05-19   -0.535812\n",
       "2001-05-20    2.338468\n",
       "2001-05-21   -0.418848\n",
       "2001-05-22    0.283201\n",
       "2001-05-23    2.228149\n",
       "2001-05-24   -0.432053\n",
       "2001-05-25    1.206309\n",
       "2001-05-26    0.329596\n",
       "2001-05-27    1.277870\n",
       "2001-05-28   -0.336649\n",
       "2001-05-29   -0.168134\n",
       "2001-05-30    0.355963\n",
       "2001-05-31    0.021429\n",
       "Freq: D, dtype: float64"
      ]
     },
     "execution_count": 122,
     "metadata": {},
     "output_type": "execute_result"
    }
   ],
   "source": [
    "longer_ts['2001-05']"
   ]
  },
  {
   "cell_type": "code",
   "execution_count": 135,
   "metadata": {
    "collapsed": false
   },
   "outputs": [
    {
     "data": {
      "text/plain": [
       "2001-05-02   -0.626645\n",
       "2001-05-12    0.334691\n",
       "2001-05-22    0.283201\n",
       "2001-06-01    0.820608\n",
       "2001-06-11    0.748173\n",
       "2001-06-21    1.524359\n",
       "2001-07-01   -1.085499\n",
       "2001-07-11   -0.786474\n",
       "2001-07-21   -0.830240\n",
       "2001-07-31    0.156897\n",
       "2001-08-10    0.372820\n",
       "2001-08-20    1.129592\n",
       "2001-08-30    1.271551\n",
       "2001-09-09    0.932193\n",
       "2001-09-19   -1.969556\n",
       "2001-09-29   -0.839959\n",
       "2001-10-09    0.405287\n",
       "2001-10-19    2.182218\n",
       "2001-10-29    0.799329\n",
       "2001-11-08    0.366832\n",
       "2001-11-18   -0.891259\n",
       "2001-11-28   -0.102715\n",
       "2001-12-08   -1.469816\n",
       "2001-12-18    0.758608\n",
       "2001-12-28    0.773155\n",
       "2002-01-07   -2.379425\n",
       "2002-01-17   -0.675437\n",
       "2002-01-27   -0.066777\n",
       "2002-02-06   -0.220946\n",
       "2002-02-16    1.456560\n",
       "2002-02-26    2.134627\n",
       "2002-03-08   -1.072064\n",
       "2002-03-18    0.159677\n",
       "2002-03-28   -1.525347\n",
       "2002-04-07    0.296073\n",
       "2002-04-17   -0.286168\n",
       "2002-04-27   -1.233928\n",
       "2002-05-07   -0.749105\n",
       "2002-05-17   -0.142084\n",
       "2002-05-27    2.426603\n",
       "2002-06-06    1.164963\n",
       "2002-06-16   -1.252325\n",
       "2002-06-26   -0.808995\n",
       "2002-07-06    0.532177\n",
       "2002-07-16    0.386818\n",
       "2002-07-26   -0.055289\n",
       "2002-08-05   -2.040245\n",
       "2002-08-15    0.190389\n",
       "2002-08-25    1.653465\n",
       "2002-09-04   -0.916716\n",
       "2002-09-14   -0.044425\n",
       "2002-09-24    0.074918\n",
       "Freq: 10D, dtype: float64"
      ]
     },
     "execution_count": 135,
     "metadata": {},
     "output_type": "execute_result"
    }
   ],
   "source": [
    "longer_ts[datetime(2001,5,2)::10]"
   ]
  },
  {
   "cell_type": "code",
   "execution_count": 136,
   "metadata": {
    "collapsed": false
   },
   "outputs": [
    {
     "data": {
      "text/plain": [
       "2011-01-07    0.019206\n",
       "2011-01-08    0.060842\n",
       "2011-01-10    0.249072\n",
       "dtype: float64"
      ]
     },
     "execution_count": 136,
     "metadata": {},
     "output_type": "execute_result"
    }
   ],
   "source": [
    "ts['1/6/2011':'1/11/2011']"
   ]
  },
  {
   "cell_type": "code",
   "execution_count": 143,
   "metadata": {
    "collapsed": false
   },
   "outputs": [],
   "source": [
    "dates=pd.date_range('1/1,2000',periods=100,freq='W-MON')"
   ]
  },
  {
   "cell_type": "code",
   "execution_count": 144,
   "metadata": {
    "collapsed": false,
    "scrolled": true
   },
   "outputs": [
    {
     "data": {
      "text/plain": [
       "DatetimeIndex(['2000-01-03', '2000-01-10', '2000-01-17', '2000-01-24',\n",
       "               '2000-01-31', '2000-02-07', '2000-02-14', '2000-02-21',\n",
       "               '2000-02-28', '2000-03-06', '2000-03-13', '2000-03-20',\n",
       "               '2000-03-27', '2000-04-03', '2000-04-10', '2000-04-17',\n",
       "               '2000-04-24', '2000-05-01', '2000-05-08', '2000-05-15',\n",
       "               '2000-05-22', '2000-05-29', '2000-06-05', '2000-06-12',\n",
       "               '2000-06-19', '2000-06-26', '2000-07-03', '2000-07-10',\n",
       "               '2000-07-17', '2000-07-24', '2000-07-31', '2000-08-07',\n",
       "               '2000-08-14', '2000-08-21', '2000-08-28', '2000-09-04',\n",
       "               '2000-09-11', '2000-09-18', '2000-09-25', '2000-10-02',\n",
       "               '2000-10-09', '2000-10-16', '2000-10-23', '2000-10-30',\n",
       "               '2000-11-06', '2000-11-13', '2000-11-20', '2000-11-27',\n",
       "               '2000-12-04', '2000-12-11', '2000-12-18', '2000-12-25',\n",
       "               '2001-01-01', '2001-01-08', '2001-01-15', '2001-01-22',\n",
       "               '2001-01-29', '2001-02-05', '2001-02-12', '2001-02-19',\n",
       "               '2001-02-26', '2001-03-05', '2001-03-12', '2001-03-19',\n",
       "               '2001-03-26', '2001-04-02', '2001-04-09', '2001-04-16',\n",
       "               '2001-04-23', '2001-04-30', '2001-05-07', '2001-05-14',\n",
       "               '2001-05-21', '2001-05-28', '2001-06-04', '2001-06-11',\n",
       "               '2001-06-18', '2001-06-25', '2001-07-02', '2001-07-09',\n",
       "               '2001-07-16', '2001-07-23', '2001-07-30', '2001-08-06',\n",
       "               '2001-08-13', '2001-08-20', '2001-08-27', '2001-09-03',\n",
       "               '2001-09-10', '2001-09-17', '2001-09-24', '2001-10-01',\n",
       "               '2001-10-08', '2001-10-15', '2001-10-22', '2001-10-29',\n",
       "               '2001-11-05', '2001-11-12', '2001-11-19', '2001-11-26'],\n",
       "              dtype='datetime64[ns]', freq='W-MON')"
      ]
     },
     "execution_count": 144,
     "metadata": {},
     "output_type": "execute_result"
    }
   ],
   "source": [
    "dates"
   ]
  },
  {
   "cell_type": "code",
   "execution_count": 145,
   "metadata": {
    "collapsed": true
   },
   "outputs": [],
   "source": [
    "long_df=DataFrame(np.random.randn(100,4),index=dates,columns=['Colorado','Texas','New York','Ohio'])"
   ]
  },
  {
   "cell_type": "code",
   "execution_count": 146,
   "metadata": {
    "collapsed": false
   },
   "outputs": [
    {
     "data": {
      "text/html": [
       "<div>\n",
       "<table border=\"1\" class=\"dataframe\">\n",
       "  <thead>\n",
       "    <tr style=\"text-align: right;\">\n",
       "      <th></th>\n",
       "      <th>Colorado</th>\n",
       "      <th>Texas</th>\n",
       "      <th>New York</th>\n",
       "      <th>Ohio</th>\n",
       "    </tr>\n",
       "  </thead>\n",
       "  <tbody>\n",
       "    <tr>\n",
       "      <th>2000-01-03</th>\n",
       "      <td>-0.396025</td>\n",
       "      <td>0.793166</td>\n",
       "      <td>-1.336247</td>\n",
       "      <td>-1.721521</td>\n",
       "    </tr>\n",
       "    <tr>\n",
       "      <th>2000-01-10</th>\n",
       "      <td>-1.117895</td>\n",
       "      <td>-1.376594</td>\n",
       "      <td>1.140891</td>\n",
       "      <td>1.342915</td>\n",
       "    </tr>\n",
       "    <tr>\n",
       "      <th>2000-01-17</th>\n",
       "      <td>-1.137054</td>\n",
       "      <td>-1.344568</td>\n",
       "      <td>-0.408949</td>\n",
       "      <td>-0.628702</td>\n",
       "    </tr>\n",
       "    <tr>\n",
       "      <th>2000-01-24</th>\n",
       "      <td>0.373870</td>\n",
       "      <td>0.606679</td>\n",
       "      <td>-0.649736</td>\n",
       "      <td>1.017704</td>\n",
       "    </tr>\n",
       "    <tr>\n",
       "      <th>2000-01-31</th>\n",
       "      <td>1.646666</td>\n",
       "      <td>-1.487236</td>\n",
       "      <td>-0.668210</td>\n",
       "      <td>1.197745</td>\n",
       "    </tr>\n",
       "    <tr>\n",
       "      <th>2000-02-07</th>\n",
       "      <td>-1.464094</td>\n",
       "      <td>0.763823</td>\n",
       "      <td>0.280644</td>\n",
       "      <td>-0.326970</td>\n",
       "    </tr>\n",
       "    <tr>\n",
       "      <th>2000-02-14</th>\n",
       "      <td>0.413271</td>\n",
       "      <td>-0.160184</td>\n",
       "      <td>2.446823</td>\n",
       "      <td>0.793921</td>\n",
       "    </tr>\n",
       "    <tr>\n",
       "      <th>2000-02-21</th>\n",
       "      <td>0.777235</td>\n",
       "      <td>-0.250659</td>\n",
       "      <td>0.344900</td>\n",
       "      <td>-0.389650</td>\n",
       "    </tr>\n",
       "    <tr>\n",
       "      <th>2000-02-28</th>\n",
       "      <td>1.151349</td>\n",
       "      <td>0.632106</td>\n",
       "      <td>-1.001298</td>\n",
       "      <td>0.870034</td>\n",
       "    </tr>\n",
       "    <tr>\n",
       "      <th>2000-03-06</th>\n",
       "      <td>-1.779984</td>\n",
       "      <td>-0.705280</td>\n",
       "      <td>0.174345</td>\n",
       "      <td>0.343063</td>\n",
       "    </tr>\n",
       "    <tr>\n",
       "      <th>2000-03-13</th>\n",
       "      <td>-0.255265</td>\n",
       "      <td>-1.110218</td>\n",
       "      <td>0.991111</td>\n",
       "      <td>0.710678</td>\n",
       "    </tr>\n",
       "    <tr>\n",
       "      <th>2000-03-20</th>\n",
       "      <td>-1.082555</td>\n",
       "      <td>2.215466</td>\n",
       "      <td>-0.229308</td>\n",
       "      <td>0.751204</td>\n",
       "    </tr>\n",
       "    <tr>\n",
       "      <th>2000-03-27</th>\n",
       "      <td>0.046548</td>\n",
       "      <td>0.089477</td>\n",
       "      <td>-0.798257</td>\n",
       "      <td>0.981410</td>\n",
       "    </tr>\n",
       "    <tr>\n",
       "      <th>2000-04-03</th>\n",
       "      <td>0.637767</td>\n",
       "      <td>0.570707</td>\n",
       "      <td>-1.656328</td>\n",
       "      <td>0.871802</td>\n",
       "    </tr>\n",
       "    <tr>\n",
       "      <th>2000-04-10</th>\n",
       "      <td>0.102420</td>\n",
       "      <td>-0.150174</td>\n",
       "      <td>0.627712</td>\n",
       "      <td>0.798834</td>\n",
       "    </tr>\n",
       "    <tr>\n",
       "      <th>2000-04-17</th>\n",
       "      <td>-0.538446</td>\n",
       "      <td>0.291812</td>\n",
       "      <td>-1.633863</td>\n",
       "      <td>-1.350723</td>\n",
       "    </tr>\n",
       "    <tr>\n",
       "      <th>2000-04-24</th>\n",
       "      <td>0.689819</td>\n",
       "      <td>-0.258974</td>\n",
       "      <td>1.284113</td>\n",
       "      <td>-0.879760</td>\n",
       "    </tr>\n",
       "    <tr>\n",
       "      <th>2000-05-01</th>\n",
       "      <td>0.118141</td>\n",
       "      <td>0.153657</td>\n",
       "      <td>-2.253209</td>\n",
       "      <td>1.442775</td>\n",
       "    </tr>\n",
       "    <tr>\n",
       "      <th>2000-05-08</th>\n",
       "      <td>1.096348</td>\n",
       "      <td>0.423574</td>\n",
       "      <td>-1.169083</td>\n",
       "      <td>0.895196</td>\n",
       "    </tr>\n",
       "    <tr>\n",
       "      <th>2000-05-15</th>\n",
       "      <td>-0.647044</td>\n",
       "      <td>1.191703</td>\n",
       "      <td>0.508526</td>\n",
       "      <td>0.064319</td>\n",
       "    </tr>\n",
       "    <tr>\n",
       "      <th>2000-05-22</th>\n",
       "      <td>-0.439087</td>\n",
       "      <td>-1.247842</td>\n",
       "      <td>0.006129</td>\n",
       "      <td>-0.663078</td>\n",
       "    </tr>\n",
       "    <tr>\n",
       "      <th>2000-05-29</th>\n",
       "      <td>1.786343</td>\n",
       "      <td>0.671195</td>\n",
       "      <td>1.652075</td>\n",
       "      <td>-0.837932</td>\n",
       "    </tr>\n",
       "    <tr>\n",
       "      <th>2000-06-05</th>\n",
       "      <td>-0.748955</td>\n",
       "      <td>-0.142650</td>\n",
       "      <td>0.456825</td>\n",
       "      <td>-0.213160</td>\n",
       "    </tr>\n",
       "    <tr>\n",
       "      <th>2000-06-12</th>\n",
       "      <td>-0.547082</td>\n",
       "      <td>0.021915</td>\n",
       "      <td>2.716427</td>\n",
       "      <td>-0.186626</td>\n",
       "    </tr>\n",
       "    <tr>\n",
       "      <th>2000-06-19</th>\n",
       "      <td>0.368051</td>\n",
       "      <td>1.465078</td>\n",
       "      <td>1.721231</td>\n",
       "      <td>-0.131689</td>\n",
       "    </tr>\n",
       "    <tr>\n",
       "      <th>2000-06-26</th>\n",
       "      <td>-0.602499</td>\n",
       "      <td>-0.549932</td>\n",
       "      <td>0.928655</td>\n",
       "      <td>-2.073007</td>\n",
       "    </tr>\n",
       "    <tr>\n",
       "      <th>2000-07-03</th>\n",
       "      <td>-0.965611</td>\n",
       "      <td>-0.390759</td>\n",
       "      <td>-0.194572</td>\n",
       "      <td>0.904724</td>\n",
       "    </tr>\n",
       "    <tr>\n",
       "      <th>2000-07-10</th>\n",
       "      <td>-1.634785</td>\n",
       "      <td>-0.284946</td>\n",
       "      <td>-0.157848</td>\n",
       "      <td>1.164527</td>\n",
       "    </tr>\n",
       "    <tr>\n",
       "      <th>2000-07-17</th>\n",
       "      <td>0.315537</td>\n",
       "      <td>0.542431</td>\n",
       "      <td>-0.910794</td>\n",
       "      <td>-0.021157</td>\n",
       "    </tr>\n",
       "    <tr>\n",
       "      <th>2000-07-24</th>\n",
       "      <td>0.152335</td>\n",
       "      <td>-0.484790</td>\n",
       "      <td>0.503515</td>\n",
       "      <td>0.114012</td>\n",
       "    </tr>\n",
       "    <tr>\n",
       "      <th>...</th>\n",
       "      <td>...</td>\n",
       "      <td>...</td>\n",
       "      <td>...</td>\n",
       "      <td>...</td>\n",
       "    </tr>\n",
       "    <tr>\n",
       "      <th>2001-05-07</th>\n",
       "      <td>1.888486</td>\n",
       "      <td>-1.530724</td>\n",
       "      <td>-0.801195</td>\n",
       "      <td>-0.426821</td>\n",
       "    </tr>\n",
       "    <tr>\n",
       "      <th>2001-05-14</th>\n",
       "      <td>0.255822</td>\n",
       "      <td>-1.108797</td>\n",
       "      <td>1.423833</td>\n",
       "      <td>0.165581</td>\n",
       "    </tr>\n",
       "    <tr>\n",
       "      <th>2001-05-21</th>\n",
       "      <td>1.223294</td>\n",
       "      <td>-1.157931</td>\n",
       "      <td>-0.818608</td>\n",
       "      <td>0.054606</td>\n",
       "    </tr>\n",
       "    <tr>\n",
       "      <th>2001-05-28</th>\n",
       "      <td>-0.247627</td>\n",
       "      <td>0.762254</td>\n",
       "      <td>-0.522358</td>\n",
       "      <td>0.650464</td>\n",
       "    </tr>\n",
       "    <tr>\n",
       "      <th>2001-06-04</th>\n",
       "      <td>-1.073877</td>\n",
       "      <td>-0.430285</td>\n",
       "      <td>0.418507</td>\n",
       "      <td>-0.162006</td>\n",
       "    </tr>\n",
       "    <tr>\n",
       "      <th>2001-06-11</th>\n",
       "      <td>-1.741244</td>\n",
       "      <td>0.656699</td>\n",
       "      <td>1.849579</td>\n",
       "      <td>1.053075</td>\n",
       "    </tr>\n",
       "    <tr>\n",
       "      <th>2001-06-18</th>\n",
       "      <td>0.019352</td>\n",
       "      <td>-1.252568</td>\n",
       "      <td>-0.515010</td>\n",
       "      <td>-1.699193</td>\n",
       "    </tr>\n",
       "    <tr>\n",
       "      <th>2001-06-25</th>\n",
       "      <td>0.984023</td>\n",
       "      <td>-0.620295</td>\n",
       "      <td>-0.733981</td>\n",
       "      <td>0.570796</td>\n",
       "    </tr>\n",
       "    <tr>\n",
       "      <th>2001-07-02</th>\n",
       "      <td>-0.649883</td>\n",
       "      <td>-1.163579</td>\n",
       "      <td>1.756069</td>\n",
       "      <td>-1.512748</td>\n",
       "    </tr>\n",
       "    <tr>\n",
       "      <th>2001-07-09</th>\n",
       "      <td>0.790103</td>\n",
       "      <td>0.190769</td>\n",
       "      <td>-0.134186</td>\n",
       "      <td>0.236973</td>\n",
       "    </tr>\n",
       "    <tr>\n",
       "      <th>2001-07-16</th>\n",
       "      <td>-0.718101</td>\n",
       "      <td>-0.141212</td>\n",
       "      <td>-1.011077</td>\n",
       "      <td>0.798710</td>\n",
       "    </tr>\n",
       "    <tr>\n",
       "      <th>2001-07-23</th>\n",
       "      <td>-0.157388</td>\n",
       "      <td>-0.662741</td>\n",
       "      <td>-0.526484</td>\n",
       "      <td>0.342184</td>\n",
       "    </tr>\n",
       "    <tr>\n",
       "      <th>2001-07-30</th>\n",
       "      <td>1.357008</td>\n",
       "      <td>1.472947</td>\n",
       "      <td>-0.387955</td>\n",
       "      <td>-1.489856</td>\n",
       "    </tr>\n",
       "    <tr>\n",
       "      <th>2001-08-06</th>\n",
       "      <td>1.946110</td>\n",
       "      <td>-1.885248</td>\n",
       "      <td>0.160151</td>\n",
       "      <td>-0.766729</td>\n",
       "    </tr>\n",
       "    <tr>\n",
       "      <th>2001-08-13</th>\n",
       "      <td>0.418795</td>\n",
       "      <td>-0.421649</td>\n",
       "      <td>0.550816</td>\n",
       "      <td>0.056061</td>\n",
       "    </tr>\n",
       "    <tr>\n",
       "      <th>2001-08-20</th>\n",
       "      <td>-1.053273</td>\n",
       "      <td>-0.036898</td>\n",
       "      <td>-0.157025</td>\n",
       "      <td>-1.390145</td>\n",
       "    </tr>\n",
       "    <tr>\n",
       "      <th>2001-08-27</th>\n",
       "      <td>-0.759503</td>\n",
       "      <td>0.320632</td>\n",
       "      <td>1.068819</td>\n",
       "      <td>-0.726846</td>\n",
       "    </tr>\n",
       "    <tr>\n",
       "      <th>2001-09-03</th>\n",
       "      <td>-0.377031</td>\n",
       "      <td>-0.418363</td>\n",
       "      <td>0.410123</td>\n",
       "      <td>1.232543</td>\n",
       "    </tr>\n",
       "    <tr>\n",
       "      <th>2001-09-10</th>\n",
       "      <td>0.375781</td>\n",
       "      <td>0.496861</td>\n",
       "      <td>-0.172968</td>\n",
       "      <td>1.666417</td>\n",
       "    </tr>\n",
       "    <tr>\n",
       "      <th>2001-09-17</th>\n",
       "      <td>1.026803</td>\n",
       "      <td>-0.128456</td>\n",
       "      <td>0.011836</td>\n",
       "      <td>0.090595</td>\n",
       "    </tr>\n",
       "    <tr>\n",
       "      <th>2001-09-24</th>\n",
       "      <td>-0.694664</td>\n",
       "      <td>-0.458687</td>\n",
       "      <td>-2.007065</td>\n",
       "      <td>0.521861</td>\n",
       "    </tr>\n",
       "    <tr>\n",
       "      <th>2001-10-01</th>\n",
       "      <td>2.152691</td>\n",
       "      <td>0.780776</td>\n",
       "      <td>-1.045372</td>\n",
       "      <td>-0.985953</td>\n",
       "    </tr>\n",
       "    <tr>\n",
       "      <th>2001-10-08</th>\n",
       "      <td>2.013744</td>\n",
       "      <td>-0.031475</td>\n",
       "      <td>-0.348786</td>\n",
       "      <td>-0.174174</td>\n",
       "    </tr>\n",
       "    <tr>\n",
       "      <th>2001-10-15</th>\n",
       "      <td>0.245679</td>\n",
       "      <td>-0.712443</td>\n",
       "      <td>0.931875</td>\n",
       "      <td>-0.764904</td>\n",
       "    </tr>\n",
       "    <tr>\n",
       "      <th>2001-10-22</th>\n",
       "      <td>-0.628491</td>\n",
       "      <td>-1.586229</td>\n",
       "      <td>-0.485302</td>\n",
       "      <td>0.830010</td>\n",
       "    </tr>\n",
       "    <tr>\n",
       "      <th>2001-10-29</th>\n",
       "      <td>-0.688030</td>\n",
       "      <td>-1.388664</td>\n",
       "      <td>-0.943377</td>\n",
       "      <td>1.452908</td>\n",
       "    </tr>\n",
       "    <tr>\n",
       "      <th>2001-11-05</th>\n",
       "      <td>0.483042</td>\n",
       "      <td>0.876319</td>\n",
       "      <td>-0.979142</td>\n",
       "      <td>0.188149</td>\n",
       "    </tr>\n",
       "    <tr>\n",
       "      <th>2001-11-12</th>\n",
       "      <td>-0.411377</td>\n",
       "      <td>0.143567</td>\n",
       "      <td>-0.763848</td>\n",
       "      <td>-2.688367</td>\n",
       "    </tr>\n",
       "    <tr>\n",
       "      <th>2001-11-19</th>\n",
       "      <td>0.142499</td>\n",
       "      <td>0.556913</td>\n",
       "      <td>0.392569</td>\n",
       "      <td>1.190218</td>\n",
       "    </tr>\n",
       "    <tr>\n",
       "      <th>2001-11-26</th>\n",
       "      <td>1.003255</td>\n",
       "      <td>0.322536</td>\n",
       "      <td>-0.245295</td>\n",
       "      <td>0.841551</td>\n",
       "    </tr>\n",
       "  </tbody>\n",
       "</table>\n",
       "<p>100 rows × 4 columns</p>\n",
       "</div>"
      ],
      "text/plain": [
       "            Colorado     Texas  New York      Ohio\n",
       "2000-01-03 -0.396025  0.793166 -1.336247 -1.721521\n",
       "2000-01-10 -1.117895 -1.376594  1.140891  1.342915\n",
       "2000-01-17 -1.137054 -1.344568 -0.408949 -0.628702\n",
       "2000-01-24  0.373870  0.606679 -0.649736  1.017704\n",
       "2000-01-31  1.646666 -1.487236 -0.668210  1.197745\n",
       "2000-02-07 -1.464094  0.763823  0.280644 -0.326970\n",
       "2000-02-14  0.413271 -0.160184  2.446823  0.793921\n",
       "2000-02-21  0.777235 -0.250659  0.344900 -0.389650\n",
       "2000-02-28  1.151349  0.632106 -1.001298  0.870034\n",
       "2000-03-06 -1.779984 -0.705280  0.174345  0.343063\n",
       "2000-03-13 -0.255265 -1.110218  0.991111  0.710678\n",
       "2000-03-20 -1.082555  2.215466 -0.229308  0.751204\n",
       "2000-03-27  0.046548  0.089477 -0.798257  0.981410\n",
       "2000-04-03  0.637767  0.570707 -1.656328  0.871802\n",
       "2000-04-10  0.102420 -0.150174  0.627712  0.798834\n",
       "2000-04-17 -0.538446  0.291812 -1.633863 -1.350723\n",
       "2000-04-24  0.689819 -0.258974  1.284113 -0.879760\n",
       "2000-05-01  0.118141  0.153657 -2.253209  1.442775\n",
       "2000-05-08  1.096348  0.423574 -1.169083  0.895196\n",
       "2000-05-15 -0.647044  1.191703  0.508526  0.064319\n",
       "2000-05-22 -0.439087 -1.247842  0.006129 -0.663078\n",
       "2000-05-29  1.786343  0.671195  1.652075 -0.837932\n",
       "2000-06-05 -0.748955 -0.142650  0.456825 -0.213160\n",
       "2000-06-12 -0.547082  0.021915  2.716427 -0.186626\n",
       "2000-06-19  0.368051  1.465078  1.721231 -0.131689\n",
       "2000-06-26 -0.602499 -0.549932  0.928655 -2.073007\n",
       "2000-07-03 -0.965611 -0.390759 -0.194572  0.904724\n",
       "2000-07-10 -1.634785 -0.284946 -0.157848  1.164527\n",
       "2000-07-17  0.315537  0.542431 -0.910794 -0.021157\n",
       "2000-07-24  0.152335 -0.484790  0.503515  0.114012\n",
       "...              ...       ...       ...       ...\n",
       "2001-05-07  1.888486 -1.530724 -0.801195 -0.426821\n",
       "2001-05-14  0.255822 -1.108797  1.423833  0.165581\n",
       "2001-05-21  1.223294 -1.157931 -0.818608  0.054606\n",
       "2001-05-28 -0.247627  0.762254 -0.522358  0.650464\n",
       "2001-06-04 -1.073877 -0.430285  0.418507 -0.162006\n",
       "2001-06-11 -1.741244  0.656699  1.849579  1.053075\n",
       "2001-06-18  0.019352 -1.252568 -0.515010 -1.699193\n",
       "2001-06-25  0.984023 -0.620295 -0.733981  0.570796\n",
       "2001-07-02 -0.649883 -1.163579  1.756069 -1.512748\n",
       "2001-07-09  0.790103  0.190769 -0.134186  0.236973\n",
       "2001-07-16 -0.718101 -0.141212 -1.011077  0.798710\n",
       "2001-07-23 -0.157388 -0.662741 -0.526484  0.342184\n",
       "2001-07-30  1.357008  1.472947 -0.387955 -1.489856\n",
       "2001-08-06  1.946110 -1.885248  0.160151 -0.766729\n",
       "2001-08-13  0.418795 -0.421649  0.550816  0.056061\n",
       "2001-08-20 -1.053273 -0.036898 -0.157025 -1.390145\n",
       "2001-08-27 -0.759503  0.320632  1.068819 -0.726846\n",
       "2001-09-03 -0.377031 -0.418363  0.410123  1.232543\n",
       "2001-09-10  0.375781  0.496861 -0.172968  1.666417\n",
       "2001-09-17  1.026803 -0.128456  0.011836  0.090595\n",
       "2001-09-24 -0.694664 -0.458687 -2.007065  0.521861\n",
       "2001-10-01  2.152691  0.780776 -1.045372 -0.985953\n",
       "2001-10-08  2.013744 -0.031475 -0.348786 -0.174174\n",
       "2001-10-15  0.245679 -0.712443  0.931875 -0.764904\n",
       "2001-10-22 -0.628491 -1.586229 -0.485302  0.830010\n",
       "2001-10-29 -0.688030 -1.388664 -0.943377  1.452908\n",
       "2001-11-05  0.483042  0.876319 -0.979142  0.188149\n",
       "2001-11-12 -0.411377  0.143567 -0.763848 -2.688367\n",
       "2001-11-19  0.142499  0.556913  0.392569  1.190218\n",
       "2001-11-26  1.003255  0.322536 -0.245295  0.841551\n",
       "\n",
       "[100 rows x 4 columns]"
      ]
     },
     "execution_count": 146,
     "metadata": {},
     "output_type": "execute_result"
    }
   ],
   "source": [
    "long_df"
   ]
  },
  {
   "cell_type": "code",
   "execution_count": 147,
   "metadata": {
    "collapsed": false
   },
   "outputs": [
    {
     "data": {
      "text/html": [
       "<div>\n",
       "<table border=\"1\" class=\"dataframe\">\n",
       "  <thead>\n",
       "    <tr style=\"text-align: right;\">\n",
       "      <th></th>\n",
       "      <th>Colorado</th>\n",
       "      <th>Texas</th>\n",
       "      <th>New York</th>\n",
       "      <th>Ohio</th>\n",
       "    </tr>\n",
       "  </thead>\n",
       "  <tbody>\n",
       "    <tr>\n",
       "      <th>2001-05-07</th>\n",
       "      <td>1.888486</td>\n",
       "      <td>-1.530724</td>\n",
       "      <td>-0.801195</td>\n",
       "      <td>-0.426821</td>\n",
       "    </tr>\n",
       "    <tr>\n",
       "      <th>2001-05-14</th>\n",
       "      <td>0.255822</td>\n",
       "      <td>-1.108797</td>\n",
       "      <td>1.423833</td>\n",
       "      <td>0.165581</td>\n",
       "    </tr>\n",
       "    <tr>\n",
       "      <th>2001-05-21</th>\n",
       "      <td>1.223294</td>\n",
       "      <td>-1.157931</td>\n",
       "      <td>-0.818608</td>\n",
       "      <td>0.054606</td>\n",
       "    </tr>\n",
       "    <tr>\n",
       "      <th>2001-05-28</th>\n",
       "      <td>-0.247627</td>\n",
       "      <td>0.762254</td>\n",
       "      <td>-0.522358</td>\n",
       "      <td>0.650464</td>\n",
       "    </tr>\n",
       "  </tbody>\n",
       "</table>\n",
       "</div>"
      ],
      "text/plain": [
       "            Colorado     Texas  New York      Ohio\n",
       "2001-05-07  1.888486 -1.530724 -0.801195 -0.426821\n",
       "2001-05-14  0.255822 -1.108797  1.423833  0.165581\n",
       "2001-05-21  1.223294 -1.157931 -0.818608  0.054606\n",
       "2001-05-28 -0.247627  0.762254 -0.522358  0.650464"
      ]
     },
     "execution_count": 147,
     "metadata": {},
     "output_type": "execute_result"
    }
   ],
   "source": [
    "long_df.ix['2001-5']"
   ]
  },
  {
   "cell_type": "code",
   "execution_count": 148,
   "metadata": {
    "collapsed": true
   },
   "outputs": [],
   "source": [
    "dates = pd.DatetimeIndex(['1/1/2000','1/2/2000','1/2/2000','1/2/2000','1/3/2000'])"
   ]
  },
  {
   "cell_type": "code",
   "execution_count": 149,
   "metadata": {
    "collapsed": false
   },
   "outputs": [
    {
     "data": {
      "text/plain": [
       "DatetimeIndex(['2000-01-01', '2000-01-02', '2000-01-02', '2000-01-02',\n",
       "               '2000-01-03'],\n",
       "              dtype='datetime64[ns]', freq=None)"
      ]
     },
     "execution_count": 149,
     "metadata": {},
     "output_type": "execute_result"
    }
   ],
   "source": [
    "dates"
   ]
  },
  {
   "cell_type": "code",
   "execution_count": 150,
   "metadata": {
    "collapsed": true
   },
   "outputs": [],
   "source": [
    "dup_ts = Series(np.arange(5),index=dates)"
   ]
  },
  {
   "cell_type": "code",
   "execution_count": 151,
   "metadata": {
    "collapsed": false
   },
   "outputs": [
    {
     "data": {
      "text/plain": [
       "2000-01-01    0\n",
       "2000-01-02    1\n",
       "2000-01-02    2\n",
       "2000-01-02    3\n",
       "2000-01-03    4\n",
       "dtype: int32"
      ]
     },
     "execution_count": 151,
     "metadata": {},
     "output_type": "execute_result"
    }
   ],
   "source": [
    "dup_ts"
   ]
  },
  {
   "cell_type": "code",
   "execution_count": 156,
   "metadata": {
    "collapsed": false
   },
   "outputs": [
    {
     "data": {
      "text/plain": [
       "False"
      ]
     },
     "execution_count": 156,
     "metadata": {},
     "output_type": "execute_result"
    }
   ],
   "source": [
    "dup_ts.index.is_unique"
   ]
  },
  {
   "cell_type": "code",
   "execution_count": 157,
   "metadata": {
    "collapsed": false
   },
   "outputs": [
    {
     "data": {
      "text/plain": [
       "4"
      ]
     },
     "execution_count": 157,
     "metadata": {},
     "output_type": "execute_result"
    }
   ],
   "source": [
    "dup_ts['1/3/2000']"
   ]
  },
  {
   "cell_type": "code",
   "execution_count": 158,
   "metadata": {
    "collapsed": false
   },
   "outputs": [
    {
     "data": {
      "text/plain": [
       "2000-01-02    1\n",
       "2000-01-02    2\n",
       "2000-01-02    3\n",
       "dtype: int32"
      ]
     },
     "execution_count": 158,
     "metadata": {},
     "output_type": "execute_result"
    }
   ],
   "source": [
    "dup_ts['2000-1-2']"
   ]
  },
  {
   "cell_type": "code",
   "execution_count": 159,
   "metadata": {
    "collapsed": true
   },
   "outputs": [],
   "source": [
    "grouped=dup_ts.groupby(level=0)"
   ]
  },
  {
   "cell_type": "code",
   "execution_count": 160,
   "metadata": {
    "collapsed": false
   },
   "outputs": [
    {
     "data": {
      "text/plain": [
       "<pandas.core.groupby.SeriesGroupBy object at 0x0000000008204EB8>"
      ]
     },
     "execution_count": 160,
     "metadata": {},
     "output_type": "execute_result"
    }
   ],
   "source": [
    "grouped"
   ]
  },
  {
   "cell_type": "code",
   "execution_count": 161,
   "metadata": {
    "collapsed": false
   },
   "outputs": [
    {
     "data": {
      "text/plain": [
       "2000-01-01    0\n",
       "2000-01-02    2\n",
       "2000-01-03    4\n",
       "dtype: int32"
      ]
     },
     "execution_count": 161,
     "metadata": {},
     "output_type": "execute_result"
    }
   ],
   "source": [
    "grouped.mean()"
   ]
  },
  {
   "cell_type": "code",
   "execution_count": 162,
   "metadata": {
    "collapsed": false
   },
   "outputs": [
    {
     "data": {
      "text/plain": [
       "2000-01-01    1\n",
       "2000-01-02    3\n",
       "2000-01-03    1\n",
       "dtype: int64"
      ]
     },
     "execution_count": 162,
     "metadata": {},
     "output_type": "execute_result"
    }
   ],
   "source": [
    "grouped.count()"
   ]
  },
  {
   "cell_type": "code",
   "execution_count": 163,
   "metadata": {
    "collapsed": false,
    "scrolled": true
   },
   "outputs": [
    {
     "data": {
      "text/plain": [
       "2000-01-01    0\n",
       "2000-01-02    1\n",
       "2000-01-02    2\n",
       "2000-01-02    3\n",
       "2000-01-03    4\n",
       "dtype: int32"
      ]
     },
     "execution_count": 163,
     "metadata": {},
     "output_type": "execute_result"
    }
   ],
   "source": [
    "dup_ts"
   ]
  },
  {
   "cell_type": "code",
   "execution_count": 164,
   "metadata": {
    "collapsed": false
   },
   "outputs": [
    {
     "data": {
      "text/plain": [
       "2011-01-02   -0.198250\n",
       "2011-01-05    1.614387\n",
       "2011-01-07    0.019206\n",
       "2011-01-08    0.060842\n",
       "2011-01-10    0.249072\n",
       "2011-01-12   -0.111519\n",
       "dtype: float64"
      ]
     },
     "execution_count": 164,
     "metadata": {},
     "output_type": "execute_result"
    }
   ],
   "source": [
    "ts"
   ]
  },
  {
   "cell_type": "code",
   "execution_count": 175,
   "metadata": {
    "collapsed": false
   },
   "outputs": [
    {
     "name": "stderr",
     "output_type": "stream",
     "text": [
      "d:\\Anaconda3\\lib\\site-packages\\IPython\\lib\\pretty.py:108: FutureWarning: .resample() is now a deferred operation\n",
      "use .resample(...).mean() instead of .resample(...)\n",
      "  return getattr(obj, attr, default)\n"
     ]
    },
    {
     "data": {
      "text/plain": [
       "DatetimeIndexResampler [freq=<Day>, axis=0, closed=left, label=left, convention=start, base=0]"
      ]
     },
     "execution_count": 175,
     "metadata": {},
     "output_type": "execute_result"
    }
   ],
   "source": [
    "ts.resample('D')"
   ]
  },
  {
   "cell_type": "code",
   "execution_count": 168,
   "metadata": {
    "collapsed": true
   },
   "outputs": [],
   "source": [
    "index = pd.date_range('2012-4-1','2012-6-1')"
   ]
  },
  {
   "cell_type": "code",
   "execution_count": 173,
   "metadata": {
    "collapsed": false
   },
   "outputs": [
    {
     "data": {
      "text/plain": [
       "DatetimeIndex(['2012-04-01', '2012-04-02', '2012-04-03', '2012-04-04',\n",
       "               '2012-04-05', '2012-04-06', '2012-04-07', '2012-04-08',\n",
       "               '2012-04-09', '2012-04-10', '2012-04-11', '2012-04-12',\n",
       "               '2012-04-13', '2012-04-14', '2012-04-15', '2012-04-16',\n",
       "               '2012-04-17', '2012-04-18', '2012-04-19', '2012-04-20',\n",
       "               '2012-04-21', '2012-04-22', '2012-04-23', '2012-04-24',\n",
       "               '2012-04-25', '2012-04-26', '2012-04-27', '2012-04-28',\n",
       "               '2012-04-29', '2012-04-30', '2012-05-01', '2012-05-02',\n",
       "               '2012-05-03', '2012-05-04', '2012-05-05', '2012-05-06',\n",
       "               '2012-05-07', '2012-05-08', '2012-05-09', '2012-05-10',\n",
       "               '2012-05-11', '2012-05-12', '2012-05-13', '2012-05-14',\n",
       "               '2012-05-15', '2012-05-16', '2012-05-17', '2012-05-18',\n",
       "               '2012-05-19', '2012-05-20', '2012-05-21', '2012-05-22',\n",
       "               '2012-05-23', '2012-05-24', '2012-05-25', '2012-05-26',\n",
       "               '2012-05-27', '2012-05-28', '2012-05-29', '2012-05-30',\n",
       "               '2012-05-31', '2012-06-01'],\n",
       "              dtype='datetime64[ns]', freq='D')"
      ]
     },
     "execution_count": 173,
     "metadata": {},
     "output_type": "execute_result"
    }
   ],
   "source": [
    "index"
   ]
  },
  {
   "cell_type": "code",
   "execution_count": 177,
   "metadata": {
    "collapsed": false
   },
   "outputs": [
    {
     "data": {
      "text/plain": [
       "DatetimeIndex(['2016-01-02', '2016-01-03', '2016-01-04', '2016-01-05',\n",
       "               '2016-01-06', '2016-01-07', '2016-01-08', '2016-01-09',\n",
       "               '2016-01-10', '2016-01-11', '2016-01-12', '2016-01-13',\n",
       "               '2016-01-14', '2016-01-15', '2016-01-16', '2016-01-17',\n",
       "               '2016-01-18', '2016-01-19', '2016-01-20', '2016-01-21'],\n",
       "              dtype='datetime64[ns]', freq='D')"
      ]
     },
     "execution_count": 177,
     "metadata": {},
     "output_type": "execute_result"
    }
   ],
   "source": [
    "pd.date_range(start='20160102',periods=20)"
   ]
  },
  {
   "cell_type": "code",
   "execution_count": 179,
   "metadata": {
    "collapsed": false
   },
   "outputs": [
    {
     "data": {
      "text/plain": [
       "DatetimeIndex(['2000-01-31', '2000-02-29', '2000-03-31', '2000-04-28',\n",
       "               '2000-05-31', '2000-06-30', '2000-07-31', '2000-08-31',\n",
       "               '2000-09-29', '2000-10-31', '2000-11-30', '2000-12-29',\n",
       "               '2001-01-31', '2001-02-28', '2001-03-30', '2001-04-30',\n",
       "               '2001-05-31', '2001-06-29', '2001-07-31', '2001-08-31',\n",
       "               '2001-09-28', '2001-10-31', '2001-11-30'],\n",
       "              dtype='datetime64[ns]', freq='BM')"
      ]
     },
     "execution_count": 179,
     "metadata": {},
     "output_type": "execute_result"
    }
   ],
   "source": [
    "pd.date_range('20000101','20011201',freq='BM')"
   ]
  },
  {
   "cell_type": "code",
   "execution_count": 180,
   "metadata": {
    "collapsed": false
   },
   "outputs": [
    {
     "data": {
      "text/plain": [
       "DatetimeIndex(['2012-05-02 12:56:31', '2012-05-03 12:56:31',\n",
       "               '2012-05-04 12:56:31', '2012-05-05 12:56:31',\n",
       "               '2012-05-06 12:56:31'],\n",
       "              dtype='datetime64[ns]', freq='D')"
      ]
     },
     "execution_count": 180,
     "metadata": {},
     "output_type": "execute_result"
    }
   ],
   "source": [
    "pd.date_range('20120502 12:56:31',periods=5)"
   ]
  },
  {
   "cell_type": "code",
   "execution_count": 181,
   "metadata": {
    "collapsed": false
   },
   "outputs": [
    {
     "data": {
      "text/plain": [
       "DatetimeIndex(['2012-05-02', '2012-05-03', '2012-05-04', '2012-05-05',\n",
       "               '2012-05-06'],\n",
       "              dtype='datetime64[ns]', freq='D')"
      ]
     },
     "execution_count": 181,
     "metadata": {},
     "output_type": "execute_result"
    }
   ],
   "source": [
    "pd.date_range('20120502 12:56:31',periods=5,normalize=True)#规范到天"
   ]
  },
  {
   "cell_type": "code",
   "execution_count": 182,
   "metadata": {
    "collapsed": true
   },
   "outputs": [],
   "source": [
    "from pandas.tseries.offsets import Hour,Minute"
   ]
  },
  {
   "cell_type": "code",
   "execution_count": 184,
   "metadata": {
    "collapsed": false
   },
   "outputs": [
    {
     "data": {
      "text/plain": [
       "<4 * Hours>"
      ]
     },
     "execution_count": 184,
     "metadata": {},
     "output_type": "execute_result"
    }
   ],
   "source": [
    "hour= Hour(4)\n",
    "hour"
   ]
  },
  {
   "cell_type": "code",
   "execution_count": 194,
   "metadata": {
    "collapsed": false
   },
   "outputs": [
    {
     "data": {
      "text/plain": [
       "DatetimeIndex(['2000-01-01 21:59:00', '2000-01-02 01:59:00',\n",
       "               '2000-01-02 05:59:00', '2000-01-02 09:59:00',\n",
       "               '2000-01-02 13:59:00', '2000-01-02 17:59:00',\n",
       "               '2000-01-02 21:59:00'],\n",
       "              dtype='datetime64[ns]', freq='4H')"
      ]
     },
     "execution_count": 194,
     "metadata": {},
     "output_type": "execute_result"
    }
   ],
   "source": [
    "pd.date_range('20000101 21:59','20000103',freq='4H')"
   ]
  },
  {
   "cell_type": "code",
   "execution_count": 192,
   "metadata": {
    "collapsed": false
   },
   "outputs": [
    {
     "data": {
      "text/plain": [
       "<150 * Minutes>"
      ]
     },
     "execution_count": 192,
     "metadata": {},
     "output_type": "execute_result"
    }
   ],
   "source": [
    "Hour(2)+Minute(30)"
   ]
  },
  {
   "cell_type": "code",
   "execution_count": 193,
   "metadata": {
    "collapsed": false
   },
   "outputs": [
    {
     "data": {
      "text/plain": [
       "DatetimeIndex(['2000-01-01 00:00:00', '2000-01-01 01:30:00',\n",
       "               '2000-01-01 03:00:00', '2000-01-01 04:30:00',\n",
       "               '2000-01-01 06:00:00', '2000-01-01 07:30:00',\n",
       "               '2000-01-01 09:00:00', '2000-01-01 10:30:00',\n",
       "               '2000-01-01 12:00:00', '2000-01-01 13:30:00'],\n",
       "              dtype='datetime64[ns]', freq='90T')"
      ]
     },
     "execution_count": 193,
     "metadata": {},
     "output_type": "execute_result"
    }
   ],
   "source": [
    "pd.date_range('20000101',periods = 10,freq='1h30min')"
   ]
  },
  {
   "cell_type": "code",
   "execution_count": 199,
   "metadata": {
    "collapsed": true
   },
   "outputs": [],
   "source": [
    "rng = pd.date_range('20120101','20120901',freq='WOM-3FRI')#一般的股票期权交易用到月度到期日"
   ]
  },
  {
   "cell_type": "code",
   "execution_count": 197,
   "metadata": {
    "collapsed": false
   },
   "outputs": [
    {
     "data": {
      "text/plain": [
       "[Timestamp('2012-01-20 00:00:00', offset='WOM-3FRI'),\n",
       " Timestamp('2012-02-17 00:00:00', offset='WOM-3FRI'),\n",
       " Timestamp('2012-03-16 00:00:00', offset='WOM-3FRI'),\n",
       " Timestamp('2012-04-20 00:00:00', offset='WOM-3FRI'),\n",
       " Timestamp('2012-05-18 00:00:00', offset='WOM-3FRI'),\n",
       " Timestamp('2012-06-15 00:00:00', offset='WOM-3FRI'),\n",
       " Timestamp('2012-07-20 00:00:00', offset='WOM-3FRI'),\n",
       " Timestamp('2012-08-17 00:00:00', offset='WOM-3FRI')]"
      ]
     },
     "execution_count": 197,
     "metadata": {},
     "output_type": "execute_result"
    }
   ],
   "source": [
    "list(rng)"
   ]
  },
  {
   "cell_type": "code",
   "execution_count": 198,
   "metadata": {
    "collapsed": false
   },
   "outputs": [
    {
     "data": {
      "text/plain": [
       "DatetimeIndex(['2012-01-20', '2012-02-17', '2012-03-16', '2012-04-20',\n",
       "               '2012-05-18', '2012-06-15', '2012-07-20', '2012-08-17'],\n",
       "              dtype='datetime64[ns]', freq='WOM-3FRI')"
      ]
     },
     "execution_count": 198,
     "metadata": {},
     "output_type": "execute_result"
    }
   ],
   "source": [
    "rng"
   ]
  },
  {
   "cell_type": "code",
   "execution_count": 200,
   "metadata": {
    "collapsed": true
   },
   "outputs": [],
   "source": [
    "ts = Series(np.random.randn(4),index=pd.date_range('20000101',periods=4,freq='M'))"
   ]
  },
  {
   "cell_type": "code",
   "execution_count": 201,
   "metadata": {
    "collapsed": false
   },
   "outputs": [
    {
     "data": {
      "text/plain": [
       "2000-01-31   -0.213582\n",
       "2000-02-29    1.875820\n",
       "2000-03-31    0.907573\n",
       "2000-04-30    0.458638\n",
       "Freq: M, dtype: float64"
      ]
     },
     "execution_count": 201,
     "metadata": {},
     "output_type": "execute_result"
    }
   ],
   "source": [
    "ts"
   ]
  },
  {
   "cell_type": "code",
   "execution_count": 202,
   "metadata": {
    "collapsed": false
   },
   "outputs": [
    {
     "data": {
      "text/plain": [
       "2000-01-31         NaN\n",
       "2000-02-29         NaN\n",
       "2000-03-31   -0.213582\n",
       "2000-04-30    1.875820\n",
       "Freq: M, dtype: float64"
      ]
     },
     "execution_count": 202,
     "metadata": {},
     "output_type": "execute_result"
    }
   ],
   "source": [
    "ts.shift(2)"
   ]
  },
  {
   "cell_type": "code",
   "execution_count": 203,
   "metadata": {
    "collapsed": false
   },
   "outputs": [
    {
     "data": {
      "text/plain": [
       "2000-01-31    0.907573\n",
       "2000-02-29    0.458638\n",
       "2000-03-31         NaN\n",
       "2000-04-30         NaN\n",
       "Freq: M, dtype: float64"
      ]
     },
     "execution_count": 203,
     "metadata": {},
     "output_type": "execute_result"
    }
   ],
   "source": [
    "ts.shift(-2)"
   ]
  },
  {
   "cell_type": "code",
   "execution_count": 204,
   "metadata": {
    "collapsed": false
   },
   "outputs": [
    {
     "data": {
      "text/plain": [
       "2000-01-31         NaN\n",
       "2000-02-29   -9.782682\n",
       "2000-03-31   -0.516173\n",
       "2000-04-30   -0.494654\n",
       "Freq: M, dtype: float64"
      ]
     },
     "execution_count": 204,
     "metadata": {},
     "output_type": "execute_result"
    }
   ],
   "source": [
    "ts/ts.shift(1) - 1"
   ]
  },
  {
   "cell_type": "code",
   "execution_count": 205,
   "metadata": {
    "collapsed": false
   },
   "outputs": [
    {
     "data": {
      "text/plain": [
       "2000-03-31   -0.213582\n",
       "2000-04-30    1.875820\n",
       "2000-05-31    0.907573\n",
       "2000-06-30    0.458638\n",
       "Freq: M, dtype: float64"
      ]
     },
     "execution_count": 205,
     "metadata": {},
     "output_type": "execute_result"
    }
   ],
   "source": [
    "ts.shift(2,freq='M')"
   ]
  },
  {
   "cell_type": "code",
   "execution_count": 206,
   "metadata": {
    "collapsed": false
   },
   "outputs": [
    {
     "data": {
      "text/plain": [
       "2000-01-31   -0.213582\n",
       "2000-02-29    1.875820\n",
       "2000-03-31    0.907573\n",
       "2000-04-30    0.458638\n",
       "Freq: M, dtype: float64"
      ]
     },
     "execution_count": 206,
     "metadata": {},
     "output_type": "execute_result"
    }
   ],
   "source": [
    "ts"
   ]
  },
  {
   "cell_type": "code",
   "execution_count": 207,
   "metadata": {
    "collapsed": false,
    "scrolled": true
   },
   "outputs": [
    {
     "data": {
      "text/plain": [
       "2000-02-03   -0.213582\n",
       "2000-03-03    1.875820\n",
       "2000-04-03    0.907573\n",
       "2000-05-03    0.458638\n",
       "dtype: float64"
      ]
     },
     "execution_count": 207,
     "metadata": {},
     "output_type": "execute_result"
    }
   ],
   "source": [
    "ts.shift(3,freq='D')"
   ]
  },
  {
   "cell_type": "code",
   "execution_count": 208,
   "metadata": {
    "collapsed": false,
    "scrolled": true
   },
   "outputs": [
    {
     "data": {
      "text/plain": [
       "2000-02-03   -0.213582\n",
       "2000-03-03    1.875820\n",
       "2000-04-03    0.907573\n",
       "2000-05-03    0.458638\n",
       "dtype: float64"
      ]
     },
     "execution_count": 208,
     "metadata": {},
     "output_type": "execute_result"
    }
   ],
   "source": [
    "ts.shift(1,freq='3D')"
   ]
  },
  {
   "cell_type": "code",
   "execution_count": 209,
   "metadata": {
    "collapsed": false
   },
   "outputs": [
    {
     "data": {
      "text/plain": [
       "2000-01-31 01:30:00   -0.213582\n",
       "2000-02-29 01:30:00    1.875820\n",
       "2000-03-31 01:30:00    0.907573\n",
       "2000-04-30 01:30:00    0.458638\n",
       "Freq: M, dtype: float64"
      ]
     },
     "execution_count": 209,
     "metadata": {},
     "output_type": "execute_result"
    }
   ],
   "source": [
    "ts.shift(1,freq='90T')"
   ]
  },
  {
   "cell_type": "code",
   "execution_count": 210,
   "metadata": {
    "collapsed": true
   },
   "outputs": [],
   "source": [
    "from pandas.tseries.offsets import Day,MonthEnd"
   ]
  },
  {
   "cell_type": "code",
   "execution_count": 211,
   "metadata": {
    "collapsed": true
   },
   "outputs": [],
   "source": [
    "now= datetime(2011,11,17)"
   ]
  },
  {
   "cell_type": "code",
   "execution_count": 212,
   "metadata": {
    "collapsed": false
   },
   "outputs": [
    {
     "data": {
      "text/plain": [
       "Timestamp('2011-11-20 00:00:00')"
      ]
     },
     "execution_count": 212,
     "metadata": {},
     "output_type": "execute_result"
    }
   ],
   "source": [
    "now+3*Day()"
   ]
  },
  {
   "cell_type": "code",
   "execution_count": 214,
   "metadata": {
    "collapsed": false
   },
   "outputs": [
    {
     "data": {
      "text/plain": [
       "datetime.datetime(2011, 11, 20, 0, 0)"
      ]
     },
     "execution_count": 214,
     "metadata": {},
     "output_type": "execute_result"
    }
   ],
   "source": [
    "datetime(2011,11,20,0,0)"
   ]
  },
  {
   "cell_type": "code",
   "execution_count": 215,
   "metadata": {
    "collapsed": false
   },
   "outputs": [
    {
     "data": {
      "text/plain": [
       "Timestamp('2011-11-30 00:00:00')"
      ]
     },
     "execution_count": 215,
     "metadata": {},
     "output_type": "execute_result"
    }
   ],
   "source": [
    "now+MonthEnd()"
   ]
  },
  {
   "cell_type": "code",
   "execution_count": 216,
   "metadata": {
    "collapsed": false
   },
   "outputs": [
    {
     "data": {
      "text/plain": [
       "Timestamp('2011-12-31 00:00:00')"
      ]
     },
     "execution_count": 216,
     "metadata": {},
     "output_type": "execute_result"
    }
   ],
   "source": [
    "now+MonthEnd(2)"
   ]
  },
  {
   "cell_type": "code",
   "execution_count": 217,
   "metadata": {
    "collapsed": true
   },
   "outputs": [],
   "source": [
    "offset = MonthEnd()"
   ]
  },
  {
   "cell_type": "code",
   "execution_count": 218,
   "metadata": {
    "collapsed": false
   },
   "outputs": [
    {
     "data": {
      "text/plain": [
       "Timestamp('2011-11-30 00:00:00')"
      ]
     },
     "execution_count": 218,
     "metadata": {},
     "output_type": "execute_result"
    }
   ],
   "source": [
    "offset.rollforward(now)#偏移到下月"
   ]
  },
  {
   "cell_type": "code",
   "execution_count": 220,
   "metadata": {
    "collapsed": false
   },
   "outputs": [
    {
     "data": {
      "text/plain": [
       "Timestamp('2011-10-31 00:00:00')"
      ]
     },
     "execution_count": 220,
     "metadata": {},
     "output_type": "execute_result"
    }
   ],
   "source": [
    "offset.rollback(now)#偏移到上月"
   ]
  },
  {
   "cell_type": "code",
   "execution_count": 221,
   "metadata": {
    "collapsed": true
   },
   "outputs": [],
   "source": [
    "ts = Series(np.random.randn(20),index=pd.date_range('20000115',periods=20,freq='4d'))"
   ]
  },
  {
   "cell_type": "code",
   "execution_count": 222,
   "metadata": {
    "collapsed": false
   },
   "outputs": [
    {
     "data": {
      "text/plain": [
       "2000-01-15    1.807207\n",
       "2000-01-19    0.281460\n",
       "2000-01-23   -0.008283\n",
       "2000-01-27   -0.570560\n",
       "2000-01-31    0.261732\n",
       "2000-02-04   -0.087325\n",
       "2000-02-08    0.311862\n",
       "2000-02-12    0.640423\n",
       "2000-02-16   -0.036088\n",
       "2000-02-20   -0.250546\n",
       "2000-02-24    0.161582\n",
       "2000-02-28    0.744236\n",
       "2000-03-03    0.879904\n",
       "2000-03-07   -0.822719\n",
       "2000-03-11    0.394032\n",
       "2000-03-15   -1.327222\n",
       "2000-03-19   -0.105096\n",
       "2000-03-23   -0.046357\n",
       "2000-03-27   -1.324293\n",
       "2000-03-31   -0.527661\n",
       "Freq: 4D, dtype: float64"
      ]
     },
     "execution_count": 222,
     "metadata": {},
     "output_type": "execute_result"
    }
   ],
   "source": [
    "ts"
   ]
  },
  {
   "cell_type": "code",
   "execution_count": 223,
   "metadata": {
    "collapsed": false
   },
   "outputs": [
    {
     "data": {
      "text/plain": [
       "2000-01-31    0.354311\n",
       "2000-02-29    0.212020\n",
       "2000-03-31   -0.359927\n",
       "dtype: float64"
      ]
     },
     "execution_count": 223,
     "metadata": {},
     "output_type": "execute_result"
    }
   ],
   "source": [
    "ts.groupby(offset.rollforward).mean()"
   ]
  },
  {
   "cell_type": "code",
   "execution_count": 224,
   "metadata": {
    "collapsed": false
   },
   "outputs": [
    {
     "name": "stderr",
     "output_type": "stream",
     "text": [
      "d:\\Anaconda3\\lib\\site-packages\\ipykernel\\__main__.py:1: FutureWarning: how in .resample() is deprecated\n",
      "the new syntax is .resample(...).mean()\n",
      "  if __name__ == '__main__':\n"
     ]
    },
    {
     "data": {
      "text/plain": [
       "2000-01-31    0.354311\n",
       "2000-02-29    0.212020\n",
       "2000-03-31   -0.359927\n",
       "Freq: M, dtype: float64"
      ]
     },
     "execution_count": 224,
     "metadata": {},
     "output_type": "execute_result"
    }
   ],
   "source": [
    "ts.resample('M',how='mean')"
   ]
  },
  {
   "cell_type": "code",
   "execution_count": 225,
   "metadata": {
    "collapsed": true
   },
   "outputs": [],
   "source": [
    "import pytz"
   ]
  },
  {
   "cell_type": "code",
   "execution_count": 233,
   "metadata": {
    "collapsed": false
   },
   "outputs": [
    {
     "data": {
      "text/plain": [
       "['US/Eastern', 'US/Hawaii', 'US/Mountain', 'US/Pacific', 'UTC']"
      ]
     },
     "execution_count": 233,
     "metadata": {},
     "output_type": "execute_result"
    }
   ],
   "source": [
    "pytz.common_timezones[-5:]"
   ]
  },
  {
   "cell_type": "code",
   "execution_count": 234,
   "metadata": {
    "collapsed": true
   },
   "outputs": [],
   "source": [
    "tz=pytz.timezone('US/Eastern')"
   ]
  },
  {
   "cell_type": "code",
   "execution_count": 235,
   "metadata": {
    "collapsed": false
   },
   "outputs": [
    {
     "data": {
      "text/plain": [
       "<DstTzInfo 'US/Eastern' LMT-1 day, 19:04:00 STD>"
      ]
     },
     "execution_count": 235,
     "metadata": {},
     "output_type": "execute_result"
    }
   ],
   "source": [
    "tz"
   ]
  },
  {
   "cell_type": "code",
   "execution_count": 236,
   "metadata": {
    "collapsed": true
   },
   "outputs": [],
   "source": [
    "rng=pd.date_range('20120309 9:30',periods=6,freq='D')"
   ]
  },
  {
   "cell_type": "code",
   "execution_count": 237,
   "metadata": {
    "collapsed": true
   },
   "outputs": [],
   "source": [
    "ts=Series(np.random.randn(len(rng)),index=rng)"
   ]
  },
  {
   "cell_type": "code",
   "execution_count": 238,
   "metadata": {
    "collapsed": false
   },
   "outputs": [
    {
     "data": {
      "text/plain": [
       "2012-03-09 09:30:00   -0.475899\n",
       "2012-03-10 09:30:00   -0.550867\n",
       "2012-03-11 09:30:00   -0.828768\n",
       "2012-03-12 09:30:00   -0.164249\n",
       "2012-03-13 09:30:00   -0.815197\n",
       "2012-03-14 09:30:00   -1.410426\n",
       "Freq: D, dtype: float64"
      ]
     },
     "execution_count": 238,
     "metadata": {},
     "output_type": "execute_result"
    }
   ],
   "source": [
    "ts"
   ]
  },
  {
   "cell_type": "code",
   "execution_count": 239,
   "metadata": {
    "collapsed": false
   },
   "outputs": [
    {
     "name": "stdout",
     "output_type": "stream",
     "text": [
      "None\n"
     ]
    }
   ],
   "source": [
    "print(ts.index.tz)"
   ]
  },
  {
   "cell_type": "code",
   "execution_count": 242,
   "metadata": {
    "collapsed": false
   },
   "outputs": [
    {
     "data": {
      "text/plain": [
       "DatetimeIndex(['2012-03-09 09:30:00+00:00', '2012-03-10 09:30:00+00:00',\n",
       "               '2012-03-11 09:30:00+00:00', '2012-03-12 09:30:00+00:00',\n",
       "               '2012-03-13 09:30:00+00:00', '2012-03-14 09:30:00+00:00',\n",
       "               '2012-03-15 09:30:00+00:00', '2012-03-16 09:30:00+00:00',\n",
       "               '2012-03-17 09:30:00+00:00', '2012-03-18 09:30:00+00:00'],\n",
       "              dtype='datetime64[ns, UTC]', freq='D')"
      ]
     },
     "execution_count": 242,
     "metadata": {},
     "output_type": "execute_result"
    }
   ],
   "source": [
    "pd.date_range('20120309 9:30',periods=10,freq='D',tz='UTC')"
   ]
  },
  {
   "cell_type": "code",
   "execution_count": 243,
   "metadata": {
    "collapsed": true
   },
   "outputs": [],
   "source": [
    "ts_utc=ts.tz_localize('UTC')"
   ]
  },
  {
   "cell_type": "code",
   "execution_count": 245,
   "metadata": {
    "collapsed": false
   },
   "outputs": [
    {
     "data": {
      "text/plain": [
       "DatetimeIndex(['2012-03-09 09:30:00+00:00', '2012-03-10 09:30:00+00:00',\n",
       "               '2012-03-11 09:30:00+00:00', '2012-03-12 09:30:00+00:00',\n",
       "               '2012-03-13 09:30:00+00:00', '2012-03-14 09:30:00+00:00'],\n",
       "              dtype='datetime64[ns, UTC]', freq='D')"
      ]
     },
     "execution_count": 245,
     "metadata": {},
     "output_type": "execute_result"
    }
   ],
   "source": [
    "ts_utc.index"
   ]
  },
  {
   "cell_type": "code",
   "execution_count": 246,
   "metadata": {
    "collapsed": false
   },
   "outputs": [
    {
     "data": {
      "text/plain": [
       "2012-03-09 04:30:00-05:00   -0.475899\n",
       "2012-03-10 04:30:00-05:00   -0.550867\n",
       "2012-03-11 05:30:00-04:00   -0.828768\n",
       "2012-03-12 05:30:00-04:00   -0.164249\n",
       "2012-03-13 05:30:00-04:00   -0.815197\n",
       "2012-03-14 05:30:00-04:00   -1.410426\n",
       "Freq: D, dtype: float64"
      ]
     },
     "execution_count": 246,
     "metadata": {},
     "output_type": "execute_result"
    }
   ],
   "source": [
    "ts_utc.tz_convert('US/Eastern')"
   ]
  },
  {
   "cell_type": "code",
   "execution_count": 247,
   "metadata": {
    "collapsed": true
   },
   "outputs": [],
   "source": [
    "stamp=pd.Timestamp('20110312 04:00')"
   ]
  },
  {
   "cell_type": "code",
   "execution_count": 248,
   "metadata": {
    "collapsed": false
   },
   "outputs": [
    {
     "data": {
      "text/plain": [
       "Timestamp('2011-03-12 04:00:00')"
      ]
     },
     "execution_count": 248,
     "metadata": {},
     "output_type": "execute_result"
    }
   ],
   "source": [
    "stamp"
   ]
  },
  {
   "cell_type": "code",
   "execution_count": 250,
   "metadata": {
    "collapsed": false
   },
   "outputs": [],
   "source": [
    "stamp_utc=stamp.tz_localize('utc')"
   ]
  },
  {
   "cell_type": "code",
   "execution_count": 251,
   "metadata": {
    "collapsed": false
   },
   "outputs": [
    {
     "data": {
      "text/plain": [
       "Timestamp('2011-03-11 23:00:00-0500', tz='US/Eastern')"
      ]
     },
     "execution_count": 251,
     "metadata": {},
     "output_type": "execute_result"
    }
   ],
   "source": [
    "stamp_utc.tz_convert('US/Eastern')"
   ]
  },
  {
   "cell_type": "code",
   "execution_count": 252,
   "metadata": {
    "collapsed": true
   },
   "outputs": [],
   "source": [
    "stamp_moscow = pd.Timestamp('20110312 04:00',tz='Europe/Moscow')"
   ]
  },
  {
   "cell_type": "code",
   "execution_count": 253,
   "metadata": {
    "collapsed": false
   },
   "outputs": [
    {
     "data": {
      "text/plain": [
       "Timestamp('2011-03-12 04:00:00+0300', tz='Europe/Moscow')"
      ]
     },
     "execution_count": 253,
     "metadata": {},
     "output_type": "execute_result"
    }
   ],
   "source": [
    "stamp_moscow"
   ]
  },
  {
   "cell_type": "code",
   "execution_count": 254,
   "metadata": {
    "collapsed": false
   },
   "outputs": [
    {
     "data": {
      "text/plain": [
       "1299902400000000000"
      ]
     },
     "execution_count": 254,
     "metadata": {},
     "output_type": "execute_result"
    }
   ],
   "source": [
    "stamp_utc.value"
   ]
  },
  {
   "cell_type": "code",
   "execution_count": 255,
   "metadata": {
    "collapsed": false
   },
   "outputs": [
    {
     "data": {
      "text/plain": [
       "Timestamp('2011-03-12 04:00:00+0000', tz='UTC')"
      ]
     },
     "execution_count": 255,
     "metadata": {},
     "output_type": "execute_result"
    }
   ],
   "source": [
    "stamp_utc"
   ]
  },
  {
   "cell_type": "code",
   "execution_count": 256,
   "metadata": {
    "collapsed": true
   },
   "outputs": [],
   "source": [
    "from pandas.tseries.offsets import Hour"
   ]
  },
  {
   "cell_type": "code",
   "execution_count": 257,
   "metadata": {
    "collapsed": true
   },
   "outputs": [],
   "source": [
    "stamp=pd.Timestamp('20120312 01:30',tz='US/Eastern')"
   ]
  },
  {
   "cell_type": "code",
   "execution_count": 258,
   "metadata": {
    "collapsed": false
   },
   "outputs": [
    {
     "data": {
      "text/plain": [
       "Timestamp('2012-03-12 01:30:00-0400', tz='US/Eastern')"
      ]
     },
     "execution_count": 258,
     "metadata": {},
     "output_type": "execute_result"
    }
   ],
   "source": [
    "stamp"
   ]
  },
  {
   "cell_type": "code",
   "execution_count": 259,
   "metadata": {
    "collapsed": false
   },
   "outputs": [
    {
     "data": {
      "text/plain": [
       "Timestamp('2012-03-12 02:30:00-0400', tz='US/Eastern')"
      ]
     },
     "execution_count": 259,
     "metadata": {},
     "output_type": "execute_result"
    }
   ],
   "source": [
    "stamp+Hour()"
   ]
  },
  {
   "cell_type": "code",
   "execution_count": 262,
   "metadata": {
    "collapsed": false
   },
   "outputs": [
    {
     "data": {
      "text/plain": [
       "Timestamp('2012-11-04 00:30:00-0400', tz='US/Eastern')"
      ]
     },
     "execution_count": 262,
     "metadata": {},
     "output_type": "execute_result"
    }
   ],
   "source": [
    "stamp=pd.Timestamp('20121104 00:30',tz='US/Eastern')\n",
    "stamp"
   ]
  },
  {
   "cell_type": "code",
   "execution_count": 265,
   "metadata": {
    "collapsed": false
   },
   "outputs": [
    {
     "data": {
      "text/plain": [
       "Timestamp('2012-11-04 01:30:00-0400', tz='US/Eastern')"
      ]
     },
     "execution_count": 265,
     "metadata": {},
     "output_type": "execute_result"
    }
   ],
   "source": [
    "stamp+Hour()"
   ]
  },
  {
   "cell_type": "code",
   "execution_count": 266,
   "metadata": {
    "collapsed": true
   },
   "outputs": [],
   "source": [
    "rng=pd.date_range('20120307 9:30',periods=10,freq='B')"
   ]
  },
  {
   "cell_type": "code",
   "execution_count": 267,
   "metadata": {
    "collapsed": false
   },
   "outputs": [
    {
     "data": {
      "text/plain": [
       "DatetimeIndex(['2012-03-07 09:30:00', '2012-03-08 09:30:00',\n",
       "               '2012-03-09 09:30:00', '2012-03-12 09:30:00',\n",
       "               '2012-03-13 09:30:00', '2012-03-14 09:30:00',\n",
       "               '2012-03-15 09:30:00', '2012-03-16 09:30:00',\n",
       "               '2012-03-19 09:30:00', '2012-03-20 09:30:00'],\n",
       "              dtype='datetime64[ns]', freq='B')"
      ]
     },
     "execution_count": 267,
     "metadata": {},
     "output_type": "execute_result"
    }
   ],
   "source": [
    "rng"
   ]
  },
  {
   "cell_type": "code",
   "execution_count": 273,
   "metadata": {
    "collapsed": false
   },
   "outputs": [
    {
     "data": {
      "text/plain": [
       "2012-03-09 09:30:00+00:00   -0.475899\n",
       "2012-03-10 09:30:00+00:00   -0.550867\n",
       "2012-03-11 09:30:00+00:00   -0.828768\n",
       "2012-03-12 09:30:00+00:00   -0.164249\n",
       "2012-03-13 09:30:00+00:00   -0.815197\n",
       "2012-03-14 09:30:00+00:00   -1.410426\n",
       "Freq: D, dtype: float64"
      ]
     },
     "execution_count": 273,
     "metadata": {},
     "output_type": "execute_result"
    }
   ],
   "source": [
    "ts1 = ts[:7].tz_localize('Europe/London')\n",
    "ts1"
   ]
  },
  {
   "cell_type": "code",
   "execution_count": 274,
   "metadata": {
    "collapsed": false
   },
   "outputs": [
    {
     "data": {
      "text/plain": [
       "2012-03-11 13:30:00+04:00   -0.828768\n",
       "2012-03-12 13:30:00+04:00   -0.164249\n",
       "2012-03-13 13:30:00+04:00   -0.815197\n",
       "2012-03-14 13:30:00+04:00   -1.410426\n",
       "Freq: D, dtype: float64"
      ]
     },
     "execution_count": 274,
     "metadata": {},
     "output_type": "execute_result"
    }
   ],
   "source": [
    "ts2= ts1[2:].tz_convert('Europe/Moscow')\n",
    "ts2"
   ]
  },
  {
   "cell_type": "code",
   "execution_count": 270,
   "metadata": {
    "collapsed": true
   },
   "outputs": [],
   "source": [
    "result = ts1+ts2"
   ]
  },
  {
   "cell_type": "code",
   "execution_count": 271,
   "metadata": {
    "collapsed": false
   },
   "outputs": [
    {
     "data": {
      "text/plain": [
       "DatetimeIndex(['2012-03-09 09:30:00+00:00', '2012-03-10 09:30:00+00:00',\n",
       "               '2012-03-11 09:30:00+00:00', '2012-03-12 09:30:00+00:00',\n",
       "               '2012-03-13 09:30:00+00:00', '2012-03-14 09:30:00+00:00'],\n",
       "              dtype='datetime64[ns, UTC]', freq='D')"
      ]
     },
     "execution_count": 271,
     "metadata": {},
     "output_type": "execute_result"
    }
   ],
   "source": [
    "result.index"
   ]
  },
  {
   "cell_type": "code",
   "execution_count": 275,
   "metadata": {
    "collapsed": false
   },
   "outputs": [],
   "source": [
    "p = pd.Period(2007,freq='A-DEC')"
   ]
  },
  {
   "cell_type": "code",
   "execution_count": 276,
   "metadata": {
    "collapsed": false
   },
   "outputs": [
    {
     "data": {
      "text/plain": [
       "Period('2007', 'A-DEC')"
      ]
     },
     "execution_count": 276,
     "metadata": {},
     "output_type": "execute_result"
    }
   ],
   "source": [
    "p"
   ]
  },
  {
   "cell_type": "code",
   "execution_count": 277,
   "metadata": {
    "collapsed": false
   },
   "outputs": [
    {
     "data": {
      "text/plain": [
       "Period('2012', 'A-DEC')"
      ]
     },
     "execution_count": 277,
     "metadata": {},
     "output_type": "execute_result"
    }
   ],
   "source": [
    "p+5"
   ]
  },
  {
   "cell_type": "code",
   "execution_count": 278,
   "metadata": {
    "collapsed": false
   },
   "outputs": [
    {
     "data": {
      "text/plain": [
       "7"
      ]
     },
     "execution_count": 278,
     "metadata": {},
     "output_type": "execute_result"
    }
   ],
   "source": [
    "pd.Period('2014',freq='A-DEC')-p"
   ]
  },
  {
   "cell_type": "code",
   "execution_count": 279,
   "metadata": {
    "collapsed": true
   },
   "outputs": [],
   "source": [
    "rng=pd.period_range('20000101','20000630',freq='M')"
   ]
  },
  {
   "cell_type": "code",
   "execution_count": 280,
   "metadata": {
    "collapsed": false
   },
   "outputs": [
    {
     "data": {
      "text/plain": [
       "PeriodIndex(['2000-01', '2000-02', '2000-03', '2000-04', '2000-05', '2000-06'], dtype='int64', freq='M')"
      ]
     },
     "execution_count": 280,
     "metadata": {},
     "output_type": "execute_result"
    }
   ],
   "source": [
    "rng"
   ]
  },
  {
   "cell_type": "code",
   "execution_count": 281,
   "metadata": {
    "collapsed": false
   },
   "outputs": [
    {
     "data": {
      "text/plain": [
       "2000-01    1.328704\n",
       "2000-02   -0.737691\n",
       "2000-03    0.168951\n",
       "2000-04   -0.215978\n",
       "2000-05    1.137363\n",
       "2000-06    1.207140\n",
       "Freq: M, dtype: float64"
      ]
     },
     "execution_count": 281,
     "metadata": {},
     "output_type": "execute_result"
    }
   ],
   "source": [
    "Series(np.random.randn(6),index=rng)"
   ]
  },
  {
   "cell_type": "code",
   "execution_count": 282,
   "metadata": {
    "collapsed": true
   },
   "outputs": [],
   "source": [
    "values=['2001Q3','2002Q2','2003Q1']"
   ]
  },
  {
   "cell_type": "code",
   "execution_count": 283,
   "metadata": {
    "collapsed": true
   },
   "outputs": [],
   "source": [
    "index=pd.PeriodIndex(values,freq='Q-DEC')"
   ]
  },
  {
   "cell_type": "code",
   "execution_count": 285,
   "metadata": {
    "collapsed": false
   },
   "outputs": [
    {
     "data": {
      "text/plain": [
       "3"
      ]
     },
     "execution_count": 285,
     "metadata": {},
     "output_type": "execute_result"
    }
   ],
   "source": [
    "index"
   ]
  },
  {
   "cell_type": "code",
   "execution_count": 286,
   "metadata": {
    "collapsed": true
   },
   "outputs": [],
   "source": [
    "p=pd.Period('2007',freq='A-DEC')"
   ]
  },
  {
   "cell_type": "code",
   "execution_count": 288,
   "metadata": {
    "collapsed": false
   },
   "outputs": [
    {
     "data": {
      "text/plain": [
       "Period('2007-01', 'M')"
      ]
     },
     "execution_count": 288,
     "metadata": {},
     "output_type": "execute_result"
    }
   ],
   "source": [
    "p.asfreq('M',how='start')"
   ]
  },
  {
   "cell_type": "code",
   "execution_count": 289,
   "metadata": {
    "collapsed": false
   },
   "outputs": [
    {
     "data": {
      "text/plain": [
       "Period('2007-12', 'M')"
      ]
     },
     "execution_count": 289,
     "metadata": {},
     "output_type": "execute_result"
    }
   ],
   "source": [
    "p.asfreq('M',how='end')"
   ]
  },
  {
   "cell_type": "code",
   "execution_count": 290,
   "metadata": {
    "collapsed": true
   },
   "outputs": [],
   "source": [
    "p=pd.Period('2007',freq='A-JUN')"
   ]
  },
  {
   "cell_type": "code",
   "execution_count": 291,
   "metadata": {
    "collapsed": false
   },
   "outputs": [
    {
     "data": {
      "text/plain": [
       "Period('2006-07', 'M')"
      ]
     },
     "execution_count": 291,
     "metadata": {},
     "output_type": "execute_result"
    }
   ],
   "source": [
    "p.asfreq('M','start')"
   ]
  },
  {
   "cell_type": "code",
   "execution_count": 292,
   "metadata": {
    "collapsed": false
   },
   "outputs": [
    {
     "data": {
      "text/plain": [
       "Period('2007-06', 'M')"
      ]
     },
     "execution_count": 292,
     "metadata": {},
     "output_type": "execute_result"
    }
   ],
   "source": [
    "p.asfreq('M',how='end')"
   ]
  },
  {
   "cell_type": "code",
   "execution_count": null,
   "metadata": {
    "collapsed": true
   },
   "outputs": [],
   "source": []
  },
  {
   "cell_type": "code",
   "execution_count": null,
   "metadata": {
    "collapsed": true
   },
   "outputs": [],
   "source": []
  },
  {
   "cell_type": "code",
   "execution_count": null,
   "metadata": {
    "collapsed": true
   },
   "outputs": [],
   "source": []
  },
  {
   "cell_type": "code",
   "execution_count": null,
   "metadata": {
    "collapsed": true
   },
   "outputs": [],
   "source": []
  },
  {
   "cell_type": "code",
   "execution_count": null,
   "metadata": {
    "collapsed": true
   },
   "outputs": [],
   "source": []
  },
  {
   "cell_type": "code",
   "execution_count": null,
   "metadata": {
    "collapsed": true
   },
   "outputs": [],
   "source": []
  },
  {
   "cell_type": "code",
   "execution_count": null,
   "metadata": {
    "collapsed": true
   },
   "outputs": [],
   "source": []
  },
  {
   "cell_type": "code",
   "execution_count": null,
   "metadata": {
    "collapsed": true
   },
   "outputs": [],
   "source": []
  },
  {
   "cell_type": "code",
   "execution_count": null,
   "metadata": {
    "collapsed": true
   },
   "outputs": [],
   "source": []
  },
  {
   "cell_type": "code",
   "execution_count": null,
   "metadata": {
    "collapsed": true
   },
   "outputs": [],
   "source": []
  },
  {
   "cell_type": "code",
   "execution_count": null,
   "metadata": {
    "collapsed": true
   },
   "outputs": [],
   "source": []
  },
  {
   "cell_type": "code",
   "execution_count": null,
   "metadata": {
    "collapsed": true
   },
   "outputs": [],
   "source": []
  },
  {
   "cell_type": "code",
   "execution_count": null,
   "metadata": {
    "collapsed": true
   },
   "outputs": [],
   "source": []
  },
  {
   "cell_type": "code",
   "execution_count": null,
   "metadata": {
    "collapsed": true
   },
   "outputs": [],
   "source": []
  },
  {
   "cell_type": "code",
   "execution_count": null,
   "metadata": {
    "collapsed": true
   },
   "outputs": [],
   "source": []
  },
  {
   "cell_type": "code",
   "execution_count": null,
   "metadata": {
    "collapsed": true
   },
   "outputs": [],
   "source": []
  },
  {
   "cell_type": "code",
   "execution_count": null,
   "metadata": {
    "collapsed": true
   },
   "outputs": [],
   "source": []
  }
 ],
 "metadata": {
  "anaconda-cloud": {},
  "kernelspec": {
   "display_name": "Python [Root]",
   "language": "python",
   "name": "Python [Root]"
  },
  "language_info": {
   "codemirror_mode": {
    "name": "ipython",
    "version": 3
   },
   "file_extension": ".py",
   "mimetype": "text/x-python",
   "name": "python",
   "nbconvert_exporter": "python",
   "pygments_lexer": "ipython3",
   "version": "3.5.1"
  }
 },
 "nbformat": 4,
 "nbformat_minor": 0
}
